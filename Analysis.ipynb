{
 "cells": [
  {
   "cell_type": "code",
   "execution_count": 1,
   "metadata": {},
   "outputs": [],
   "source": [
    "from extract_utils import *"
   ]
  },
  {
   "cell_type": "markdown",
   "metadata": {},
   "source": [
    "# Pre-Processing Outline"
   ]
  },
  {
   "cell_type": "markdown",
   "metadata": {},
   "source": [
    "1. Epochs for selected region (window=5s)\n",
    "2. Transform raw data to frequency domain, look for peaks at 0.4-5 Hz\n",
    "3. outliners identification -- e.g. 95% percentile\n",
    "4. Filter out epochs based on:\n",
    "    - peaks at 0.4-5 Hz\n",
    "    - within 95% percentile of power? \n"
   ]
  },
  {
   "cell_type": "markdown",
   "metadata": {},
   "source": [
    "## Obtain relevant patient info"
   ]
  },
  {
   "cell_type": "markdown",
   "metadata": {},
   "source": [
    "- Here we choose patient 8 for our analysis\n",
    "- Figure shown below indicidates the position of electrodes on this patient\n",
    "\n",
    "![elecLoc](Data/electrodePos/ep_sbj_08.png)"
   ]
  },
  {
   "cell_type": "code",
   "execution_count": 2,
   "metadata": {},
   "outputs": [
    {
     "name": "stderr",
     "output_type": "stream",
     "text": [
      "/Applications/anaconda3/envs/NMA/lib/python3.9/site-packages/hdmf/spec/namespace.py:531: UserWarning: Ignoring cached namespace 'hdmf-common' version 1.4.0-alpha because version 1.7.0 is already loaded.\n",
      "  warn(\"Ignoring cached namespace '%s' version %s because version %s is already loaded.\"\n",
      "/Applications/anaconda3/envs/NMA/lib/python3.9/site-packages/hdmf/spec/namespace.py:531: UserWarning: Ignoring cached namespace 'core' version 2.2.5 because version 2.6.0-alpha is already loaded.\n",
      "  warn(\"Ignoring cached namespace '%s' version %s because version %s is already loaded.\"\n",
      "/Applications/anaconda3/envs/NMA/lib/python3.9/site-packages/hdmf/spec/namespace.py:531: UserWarning: Ignoring cached namespace 'hdmf-experimental' version 0.1.0 because version 0.4.0 is already loaded.\n",
      "  warn(\"Ignoring cached namespace '%s' version %s because version %s is already loaded.\"\n"
     ]
    }
   ],
   "source": [
    "# get the nwb file\n",
    "file, _ = get_nwb('08', 3)"
   ]
  },
  {
   "cell_type": "code",
   "execution_count": 3,
   "metadata": {},
   "outputs": [],
   "source": [
    "# table of epochs for all behavioural type\n",
    "allActs, blocklist, acts, epochs = get_epochs(file, True)\n",
    "\n",
    "# get raw data\n",
    "raw = file.acquisition['ElectricalSeries'].data\n",
    "# get good electrode id defined in the literature\n",
    "goodid = file.electrodes.to_dataframe()[file.electrodes.to_dataframe()['good']==True].index"
   ]
  },
  {
   "cell_type": "markdown",
   "metadata": {},
   "source": [
    "## Obtain Epochs for each behaviors"
   ]
  },
  {
   "cell_type": "code",
   "execution_count": 4,
   "metadata": {},
   "outputs": [],
   "source": [
    "# extract all inactive activities\n",
    "inactive = extract_phys_accod_timestamps(raw, epochs['Inactive'], [0, 24])\n",
    "# use the average as baseline\n",
    "d = []\n",
    "for item in inactive.keys():\n",
    "    temp = epoching(inactive[item], 500, epoch=94, max_t=94)[:, goodid.values,:]\n",
    "    if not np.isnan(temp).any():\n",
    "        d.append(temp) # leave only good electrodes\n",
    "        \n",
    "\n",
    "inactiveArray = np.dstack(d)\n",
    "inactiveArray.shape\n",
    "baseline = inactiveArray.mean(axis=2)"
   ]
  },
  {
   "cell_type": "code",
   "execution_count": 5,
   "metadata": {},
   "outputs": [],
   "source": [
    "epochs_behavior = {} # Mapping behavior to corresponding epochs of 5s\n",
    "\n",
    "for item in acts:\n",
    "    # extract recording by bahvior\n",
    "    if item == 'Inactive' or item=='Other activity' or item=='Sleep/rest':\n",
    "        pass\n",
    "    else:\n",
    "        temp = extract_phys_accod_timestamps(raw, epochs[item], [0, 24])\n",
    "        # obtain epochs for each behaviour\n",
    "        d = []\n",
    "        for key in temp.keys():\n",
    "            d.append(epoching(temp[key], 500, 94, max_t=94)[:, goodid.values,:]) # leave only good electrodes\n",
    "        epochs_behavior[item] = np.dstack(d)"
   ]
  },
  {
   "cell_type": "markdown",
   "metadata": {},
   "source": [
    "## Power Transform"
   ]
  },
  {
   "cell_type": "code",
   "execution_count": 6,
   "metadata": {},
   "outputs": [],
   "source": [
    "import fooof as f\n",
    "import scipy\n",
    "from scipy.signal import welch, firwin, fftconvolve, hilbert\n",
    "from scipy.fft import ifft\n",
    "from scipy.signal import sosfilt"
   ]
  },
  {
   "cell_type": "code",
   "execution_count": 7,
   "metadata": {},
   "outputs": [],
   "source": [
    "acts = ['Computer/phone',\n",
    " 'Eat, TV',\n",
    " 'TV',\n",
    " 'TV, Computer/phone',\n",
    " 'Talk',\n",
    " 'Talk, Computer/phone',\n",
    " 'Talk, TV',\n",
    " 'Talk, TV, Computer/phone']"
   ]
  },
  {
   "cell_type": "code",
   "execution_count": 8,
   "metadata": {},
   "outputs": [],
   "source": [
    "# 2th order IIR filter to extract low-frequence envelop\n",
    "filter_order = 2\n",
    "neural_freq_range = [0.5, 5]\n",
    "sampling_rate = 500\n",
    "filtered_data = {}\n",
    "for item in acts:\n",
    "        item_specific = np.empty((epochs_behavior[item].shape))\n",
    "        for j in range(epochs_behavior[item].shape[1]):\n",
    "                neur_data_curr = epochs_behavior[item][:, j, :]\n",
    "                sos = butter(filter_order, neural_freq_range, btype='bandpass', output='sos', fs=sampling_rate)\n",
    "                item_specific[:, j, :] = sosfiltfilt(sos, neur_data_curr, padlen=0)\n",
    "        filtered_data[item] = item_specific"
   ]
  },
  {
   "cell_type": "code",
   "execution_count": 9,
   "metadata": {},
   "outputs": [
    {
     "data": {
      "text/plain": [
       "(47000, 83, 1)"
      ]
     },
     "execution_count": 9,
     "metadata": {},
     "output_type": "execute_result"
    }
   ],
   "source": [
    "epochs_behavior[item].shape"
   ]
  },
  {
   "cell_type": "code",
   "execution_count": 10,
   "metadata": {},
   "outputs": [],
   "source": [
    "freqb, spectrumb = welch(baseline[:, -1], 500, scaling='spectrum')"
   ]
  },
  {
   "cell_type": "code",
   "execution_count": 11,
   "metadata": {},
   "outputs": [],
   "source": [
    "# Select epochs with power within 99% percentile\n",
    "\n",
    "epoch_id = {}\n",
    "tl, n_channel, n_epoch = epochs_behavior['TV'].shape\n",
    "powerSpec = np.empty((tl, n_channel, n_epoch))\n",
    "filtered_epochs = {}\n",
    "\n",
    "l_c = []\n",
    "filtered_epochs['TV'] = {}\n",
    "for j in range(n_channel): # for each channel\n",
    "    \n",
    "    channel_curr = []\n",
    "    for i in range(n_epoch): # for each epoch\n",
    "        # Hilbert transform on filtered data\n",
    "        # powerSpec[:, j, i] = np.abs(hilbert(filtered_data['TV'][:, j, i], ))\n",
    "        # channel_curr.append(power)\n",
    "        # welch transform\n",
    "        freqs, spectrum = welch(epochs_behavior['TV'][:, j, i], fs=500, scaling='density')\n",
    "        #spectrum = 10*np.log10(spectrum/spectrumb)\n",
    "        channel_curr.append(np.mean(spectrum[0:3]))\n",
    "    lb, ub = np.percentile(channel_curr, [5, 95])\n",
    "    idx = np.where(np.logical_and(channel_curr<=ub, channel_curr>=lb))\n",
    "    l_c.append(len(idx[0]))\n",
    "    filtered_epochs['TV'][j] = epochs_behavior['TV'][:, j, idx]\n",
    "\n",
    "minlidx = min(l_c)\n",
    "epochf = np.empty((tl, n_channel, minlidx))\n",
    "for j in range(n_channel):\n",
    "    t, lepoch = filtered_epochs['TV'][j].shape[0], filtered_epochs['TV'][j].shape[-1]\n",
    "    filtered_epochs['TV'][j] = filtered_epochs['TV'][j].reshape(t, lepoch)\n",
    "    epochf[:, j, :] = filtered_epochs['TV'][j][:, 0:minlidx]\n",
    "\n",
    "# (filtered_data['TV'][:, :, i] - np.mean(baseline, axis=1))/std()"
   ]
  },
  {
   "cell_type": "code",
   "execution_count": 13,
   "metadata": {},
   "outputs": [],
   "source": [
    "# z-scoring\n",
    "for i in range(n_epoch):\n",
    "    powerSpec[:, :, i] = (powerSpec[:, :, i] - np.mean(baseline, axis=0)\n",
    ")/np.std(baseline, axis=0)"
   ]
  },
  {
   "cell_type": "code",
   "execution_count": 14,
   "metadata": {},
   "outputs": [
    {
     "data": {
      "text/plain": [
       "(0.0, 50.0)"
      ]
     },
     "execution_count": 14,
     "metadata": {},
     "output_type": "execute_result"
    },
    {
     "data": {
      "image/png": "[encoded data removed]",
      "text/plain": [
       "<Figure size 640x480 with 1 Axes>"
      ]
     },
     "metadata": {},
     "output_type": "display_data"
    }
   ],
   "source": [
    "plt.plot(freqs, np.log10(spectrum))\n",
    "plt.xlim([0, 50])"
   ]
  },
  {
   "cell_type": "markdown",
   "metadata": {},
   "source": [
    "## MNE demo"
   ]
  },
  {
   "cell_type": "code",
   "execution_count": 15,
   "metadata": {},
   "outputs": [],
   "source": [
    "from mne.viz import plot_raw_psd\n",
    "import mne"
   ]
  },
  {
   "cell_type": "code",
   "execution_count": 16,
   "metadata": {},
   "outputs": [
    {
     "data": {
      "text/plain": [
       "(47000, 83, 23)"
      ]
     },
     "execution_count": 16,
     "metadata": {},
     "output_type": "execute_result"
    }
   ],
   "source": [
    "sample = epochs_behavior['TV']\n",
    "sample.shape"
   ]
  },
  {
   "cell_type": "code",
   "execution_count": 17,
   "metadata": {},
   "outputs": [
    {
     "name": "stdout",
     "output_type": "stream",
     "text": [
      "Not setting metadata\n",
      "23 matching events found\n",
      "No baseline correction applied\n",
      "0 projection items activated\n"
     ]
    }
   ],
   "source": [
    "sampleinfo = mne.create_info([str(id) for id in goodid], 500, 'ecog')\n",
    "epochObj = mne.EpochsArray(sample.reshape((23, 83, 47000)), sampleinfo)"
   ]
  },
  {
   "cell_type": "markdown",
   "metadata": {},
   "source": [
    "# Demixed PCA"
   ]
  },
  {
   "cell_type": "markdown",
   "metadata": {},
   "source": []
  },
  {
   "cell_type": "code",
   "execution_count": null,
   "metadata": {},
   "outputs": [],
   "source": []
  }
 ],
 "metadata": {
  "kernelspec": {
   "display_name": "NMA",
   "language": "python",
   "name": "python3"
  },
  "language_info": {
   "codemirror_mode": {
    "name": "ipython",
    "version": 3
   },
   "file_extension": ".py",
   "mimetype": "text/x-python",
   "name": "python",
   "nbconvert_exporter": "python",
   "pygments_lexer": "ipython3",
   "version": "3.9.16"
  },
  "orig_nbformat": 4
 },
 "nbformat": 4,
 "nbformat_minor": 2
}
