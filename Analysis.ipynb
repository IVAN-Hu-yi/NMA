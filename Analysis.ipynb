{
 "cells": [
  {
   "cell_type": "code",
   "execution_count": 1,
   "metadata": {},
   "outputs": [],
   "source": [
    "from extract_utils import *"
   ]
  },
  {
   "cell_type": "markdown",
   "metadata": {},
   "source": [
    "# Pre-Processing Outline"
   ]
  },
  {
   "cell_type": "markdown",
   "metadata": {},
   "source": [
    "1. Epochs for selected region (window=5s)\n",
    "2. Transform raw data to frequency domain, look for peaks at 0.4-5 Hz\n",
    "3. outliners identification -- e.g. 95% percentile\n",
    "4. Filter out epochs based on:\n",
    "    - peaks at 0.4-5 Hz\n",
    "    - within 95% percentile of power? \n"
   ]
  },
  {
   "cell_type": "markdown",
   "metadata": {},
   "source": [
    "## Obtain relevant patient info"
   ]
  },
  {
   "cell_type": "markdown",
   "metadata": {},
   "source": [
    "- Here we choose patient 8 for our analysis\n",
    "- Figure shown below indicidates the position of electrodes on this patient\n",
    "\n",
    "![elecLoc](Data/electrodePos/ep_sbj_08.png)"
   ]
  },
  {
   "cell_type": "code",
   "execution_count": 2,
   "metadata": {},
   "outputs": [
    {
     "name": "stderr",
     "output_type": "stream",
     "text": [
      "/Applications/anaconda3/envs/NMA/lib/python3.9/site-packages/hdmf/spec/namespace.py:531: UserWarning: Ignoring cached namespace 'hdmf-common' version 1.4.0-alpha because version 1.7.0 is already loaded.\n",
      "  warn(\"Ignoring cached namespace '%s' version %s because version %s is already loaded.\"\n",
      "/Applications/anaconda3/envs/NMA/lib/python3.9/site-packages/hdmf/spec/namespace.py:531: UserWarning: Ignoring cached namespace 'core' version 2.2.5 because version 2.6.0-alpha is already loaded.\n",
      "  warn(\"Ignoring cached namespace '%s' version %s because version %s is already loaded.\"\n",
      "/Applications/anaconda3/envs/NMA/lib/python3.9/site-packages/hdmf/spec/namespace.py:531: UserWarning: Ignoring cached namespace 'hdmf-experimental' version 0.1.0 because version 0.4.0 is already loaded.\n",
      "  warn(\"Ignoring cached namespace '%s' version %s because version %s is already loaded.\"\n"
     ]
    }
   ],
   "source": [
    "# get the nwb file\n",
    "file, _ = get_nwb('08', 3)"
   ]
  },
  {
   "cell_type": "code",
   "execution_count": 7,
   "metadata": {},
   "outputs": [],
   "source": [
    "# table of epochs for all behavioural type\n",
    "allActs, blocklist, acts, epochs = get_epochs(file, True)\n",
    "\n",
    "# get raw data\n",
    "raw = file.acquisition['ElectricalSeries'].data\n",
    "# get good electrode id defined in the literature\n",
    "goodid = file.electrodes.to_dataframe()[file.electrodes.to_dataframe()['good']==True].index"
   ]
  },
  {
   "cell_type": "markdown",
   "metadata": {},
   "source": [
    "## Obtain Epochs for each behaviors"
   ]
  },
  {
   "cell_type": "code",
   "execution_count": 15,
   "metadata": {},
   "outputs": [],
   "source": [
    "# extract all inactive activities\n",
    "inactive = extract_phys_accod_timestamps(raw, epochs['Inactive'], [0, 24])\n",
    "# use the average as baseline\n",
    "d = []\n",
    "for item in inactive.keys():\n",
    "    d.append(epoching(inactive[item], 500, epoch=94, max_t=94)[:, goodid.values,:]) # leave only good electrodes\n",
    "inactiveArray = np.dstack(d)\n",
    "inactiveArray.shape\n",
    "baseline = inactiveArray.mean(axis=2)"
   ]
  },
  {
   "cell_type": "code",
   "execution_count": 16,
   "metadata": {},
   "outputs": [],
   "source": [
    "epochs_behavior = {} # Mapping behavior to corresponding epochs of 5s\n",
    "\n",
    "for item in acts:\n",
    "    # extract recording by bahvior\n",
    "    if item == 'Inactive' or item=='Other activity' or item=='Sleep/rest':\n",
    "        pass\n",
    "    else:\n",
    "        temp = extract_phys_accod_timestamps(raw, epochs[item], [0, 24])\n",
    "        # obtain epochs for each behaviour\n",
    "        d = []\n",
    "        for key in temp.keys():\n",
    "            d.append(epoching(temp[key], 500, 94, max_t=94)[:, goodid.values,:]) # leave only good electrodes\n",
    "        epochs_behavior[item] = np.dstack(d)"
   ]
  },
  {
   "cell_type": "markdown",
   "metadata": {},
   "source": [
    "## Power Transform"
   ]
  },
  {
   "cell_type": "code",
   "execution_count": 17,
   "metadata": {},
   "outputs": [],
   "source": [
    "import fooof as f\n",
    "import scipy\n",
    "from scipy.signal import welch, firwin, fftconvolve, hilbert\n",
    "from scipy.fft import ifft\n",
    "from scipy.signal import sosfilt"
   ]
  },
  {
   "cell_type": "code",
   "execution_count": 18,
   "metadata": {},
   "outputs": [],
   "source": [
    "acts = ['Computer/phone',\n",
    " 'Eat, TV',\n",
    " 'TV',\n",
    " 'TV, Computer/phone',\n",
    " 'Talk',\n",
    " 'Talk, Computer/phone',\n",
    " 'Talk, TV',\n",
    " 'Talk, TV, Computer/phone']"
   ]
  },
  {
   "cell_type": "code",
   "execution_count": 19,
   "metadata": {},
   "outputs": [],
   "source": [
    "# 2th order IIR filter to extract low-frequence envelop\n",
    "filter_order = 2\n",
    "neural_freq_range = [0.5, 5]\n",
    "sampling_rate = 500\n",
    "filtered_data = {}\n",
    "for item in acts:\n",
    "        item_specific = np.empty((epochs_behavior[item].shape))\n",
    "        for j in range(epochs_behavior[item].shape[1]):\n",
    "                neur_data_curr = epochs_behavior[item][:, j, :]\n",
    "                sos = butter(filter_order, neural_freq_range, btype='bandpass', output='sos', fs=sampling_rate)\n",
    "                item_specific[:, j, :] = sosfiltfilt(sos, neur_data_curr, padlen=0)\n",
    "        filtered_data[item] = item_specific"
   ]
  },
  {
   "cell_type": "code",
   "execution_count": 20,
   "metadata": {},
   "outputs": [
    {
     "data": {
      "text/plain": [
       "(47000, 83, 1)"
      ]
     },
     "execution_count": 20,
     "metadata": {},
     "output_type": "execute_result"
    }
   ],
   "source": [
    "epochs_behavior[item].shape"
   ]
  },
  {
   "cell_type": "code",
   "execution_count": 21,
   "metadata": {},
   "outputs": [],
   "source": [
    "freqb, spectrumb = welch(baseline[:, -1], 500, scaling='spectrum')"
   ]
  },
  {
   "cell_type": "code",
   "execution_count": 22,
   "metadata": {},
   "outputs": [],
   "source": [
    "# Select epochs with power within 99% percentile\n",
    "\n",
    "epoch_id = {}\n",
    "tl, n_channel, n_epoch = epochs_behavior['TV'].shape\n",
    "powerSpec = np.empty((tl, n_channel, n_epoch))\n",
    "\n",
    "for j in range(n_channel): # for each channel\n",
    "    channel_curr = []\n",
    "    for i in range(n_epoch): # for each epoch\n",
    "        # Hilbert transform on filtered data\n",
    "        # powerSpec[:, j, i] = np.abs(hilbert(filtered_data['TV'][:, j, i], ))\n",
    "        \n",
    "        # channel_curr.append(power)\n",
    "        # welch transform\n",
    "        freqs, spectrum = welch(epochs_behavior['TV'][:, j, i], fs=500, scaling='density')\n",
    "        #spectrum = 10*np.log10(spectrum/spectrumb)\n",
    "        channel_curr.append(np.mean(spectrum[0:5]))\n",
    "    lb, ub = np.percentile(channel_curr, [1, 99])\n",
    "    idx = np.where(np.logical_and(channel_curr<=ub, channel_curr>=lb))\n",
    "    # epochs_behavior['TV'][:, j, :] = epochs_behavior['TV'][:, j, idx]\n",
    "\n",
    "# (filtered_data['TV'][:, :, i] - np.mean(baseline, axis=1))/std()"
   ]
  },
  {
   "cell_type": "code",
   "execution_count": 23,
   "metadata": {},
   "outputs": [],
   "source": [
    "bpower = np.abs(hilbert(baseline[:, -1]))"
   ]
  },
  {
   "cell_type": "code",
   "execution_count": 24,
   "metadata": {},
   "outputs": [],
   "source": [
    "# z-scoring\n",
    "for i in range(n_epoch):\n",
    "    powerSpec[:, :, i] = (powerSpec[:, :, i] - np.mean(baseline, axis=0)\n",
    ")/np.std(baseline, axis=0)"
   ]
  },
  {
   "cell_type": "code",
   "execution_count": 25,
   "metadata": {},
   "outputs": [
    {
     "data": {
      "text/plain": [
       "[<matplotlib.lines.Line2D at 0x29656fbb0>]"
      ]
     },
     "execution_count": 25,
     "metadata": {},
     "output_type": "execute_result"
    },
    {
     "data": {
      "image/png": "[encoded data removed]",
      "text/plain": [
       "<Figure size 640x480 with 1 Axes>"
      ]
     },
     "metadata": {},
     "output_type": "display_data"
    }
   ],
   "source": [
    "plt.plot(10*np.log10(powerSpec[:, 1, 1]))"
   ]
  },
  {
   "cell_type": "code",
   "execution_count": 26,
   "metadata": {},
   "outputs": [
    {
     "data": {
      "text/plain": [
       "(129,)"
      ]
     },
     "execution_count": 26,
     "metadata": {},
     "output_type": "execute_result"
    }
   ],
   "source": [
    "spectrum.shape"
   ]
  },
  {
   "cell_type": "code",
   "execution_count": 28,
   "metadata": {},
   "outputs": [
    {
     "data": {
      "text/plain": [
       "(0.0, 50.0)"
      ]
     },
     "execution_count": 28,
     "metadata": {},
     "output_type": "execute_result"
    },
    {
     "data": {
      "image/png": "[encoded data removed]",
      "text/plain": [
       "<Figure size 640x480 with 1 Axes>"
      ]
     },
     "metadata": {},
     "output_type": "display_data"
    }
   ],
   "source": [
    "plt.plot(freqs, np.log10(spectrum))\n",
    "plt.xlim([0, 50])"
   ]
  },
  {
   "cell_type": "code",
   "execution_count": 29,
   "metadata": {},
   "outputs": [],
   "source": [
    "from mne.viz import plot_raw_psd\n",
    "import mne"
   ]
  },
  {
   "cell_type": "code",
   "execution_count": 30,
   "metadata": {},
   "outputs": [
    {
     "data": {
      "text/plain": [
       "(47000, 83, 23)"
      ]
     },
     "execution_count": 30,
     "metadata": {},
     "output_type": "execute_result"
    }
   ],
   "source": [
    "sample = epochs_behavior['TV']\n",
    "sample.shape"
   ]
  },
  {
   "cell_type": "code",
   "execution_count": 57,
   "metadata": {},
   "outputs": [
    {
     "name": "stdout",
     "output_type": "stream",
     "text": [
      "Not setting metadata\n",
      "23 matching events found\n",
      "No baseline correction applied\n",
      "0 projection items activated\n"
     ]
    }
   ],
   "source": [
    "sampleinfo = mne.create_info([str(id) for id in goodid], 500, 'ecog')\n",
    "epochObj = mne.EpochsArray(sample.reshape((23, 83, 47000)), sampleinfo)"
   ]
  },
  {
   "cell_type": "code",
   "execution_count": 64,
   "metadata": {},
   "outputs": [
    {
     "ename": "TypeError",
     "evalue": "Got unexpected keyword argument estimate for PSD method \"multitaper\".",
     "output_type": "error",
     "traceback": [
      "\u001b[0;31m---------------------------------------------------------------------------\u001b[0m",
      "\u001b[0;31mTypeError\u001b[0m                                 Traceback (most recent call last)",
      "Cell \u001b[0;32mIn[64], line 1\u001b[0m\n\u001b[0;32m----> 1\u001b[0m epochObj\u001b[39m.\u001b[39;49mcompute_psd(estimate\u001b[39m=\u001b[39;49m\u001b[39m'\u001b[39;49m\u001b[39mpower\u001b[39;49m\u001b[39m'\u001b[39;49m)\u001b[39m.\u001b[39mplot(picks\u001b[39m=\u001b[39m\u001b[39m\"\u001b[39m\u001b[39mecog\u001b[39m\u001b[39m\"\u001b[39m)\n",
      "File \u001b[0;32m<decorator-gen-285>:12\u001b[0m, in \u001b[0;36mcompute_psd\u001b[0;34m(self, method, fmin, fmax, tmin, tmax, picks, proj, n_jobs, verbose, **method_kw)\u001b[0m\n",
      "File \u001b[0;32m/Applications/anaconda3/envs/NMA/lib/python3.9/site-packages/mne/epochs.py:2382\u001b[0m, in \u001b[0;36mBaseEpochs.compute_psd\u001b[0;34m(self, method, fmin, fmax, tmin, tmax, picks, proj, n_jobs, verbose, **method_kw)\u001b[0m\n\u001b[1;32m   2379\u001b[0m method \u001b[39m=\u001b[39m _validate_method(method, \u001b[39mtype\u001b[39m(\u001b[39mself\u001b[39m)\u001b[39m.\u001b[39m\u001b[39m__name__\u001b[39m)\n\u001b[1;32m   2380\u001b[0m \u001b[39mself\u001b[39m\u001b[39m.\u001b[39m_set_legacy_nfft_default(tmin, tmax, method, method_kw)\n\u001b[0;32m-> 2382\u001b[0m \u001b[39mreturn\u001b[39;00m EpochsSpectrum(\n\u001b[1;32m   2383\u001b[0m     \u001b[39mself\u001b[39;49m,\n\u001b[1;32m   2384\u001b[0m     method\u001b[39m=\u001b[39;49mmethod,\n\u001b[1;32m   2385\u001b[0m     fmin\u001b[39m=\u001b[39;49mfmin,\n\u001b[1;32m   2386\u001b[0m     fmax\u001b[39m=\u001b[39;49mfmax,\n\u001b[1;32m   2387\u001b[0m     tmin\u001b[39m=\u001b[39;49mtmin,\n\u001b[1;32m   2388\u001b[0m     tmax\u001b[39m=\u001b[39;49mtmax,\n\u001b[1;32m   2389\u001b[0m     picks\u001b[39m=\u001b[39;49mpicks,\n\u001b[1;32m   2390\u001b[0m     proj\u001b[39m=\u001b[39;49mproj,\n\u001b[1;32m   2391\u001b[0m     n_jobs\u001b[39m=\u001b[39;49mn_jobs,\n\u001b[1;32m   2392\u001b[0m     verbose\u001b[39m=\u001b[39;49mverbose,\n\u001b[1;32m   2393\u001b[0m     \u001b[39m*\u001b[39;49m\u001b[39m*\u001b[39;49mmethod_kw,\n\u001b[1;32m   2394\u001b[0m )\n",
      "File \u001b[0;32m/Applications/anaconda3/envs/NMA/lib/python3.9/site-packages/mne/time_frequency/spectrum.py:1254\u001b[0m, in \u001b[0;36mEpochsSpectrum.__init__\u001b[0;34m(self, inst, method, fmin, fmax, tmin, tmax, picks, proj, n_jobs, verbose, **method_kw)\u001b[0m\n\u001b[1;32m   1252\u001b[0m     \u001b[39mreturn\u001b[39;00m\n\u001b[1;32m   1253\u001b[0m \u001b[39m# do the basic setup\u001b[39;00m\n\u001b[0;32m-> 1254\u001b[0m \u001b[39msuper\u001b[39;49m()\u001b[39m.\u001b[39;49m\u001b[39m__init__\u001b[39;49m(\n\u001b[1;32m   1255\u001b[0m     inst,\n\u001b[1;32m   1256\u001b[0m     method,\n\u001b[1;32m   1257\u001b[0m     fmin,\n\u001b[1;32m   1258\u001b[0m     fmax,\n\u001b[1;32m   1259\u001b[0m     tmin,\n\u001b[1;32m   1260\u001b[0m     tmax,\n\u001b[1;32m   1261\u001b[0m     picks,\n\u001b[1;32m   1262\u001b[0m     proj,\n\u001b[1;32m   1263\u001b[0m     n_jobs\u001b[39m=\u001b[39;49mn_jobs,\n\u001b[1;32m   1264\u001b[0m     verbose\u001b[39m=\u001b[39;49mverbose,\n\u001b[1;32m   1265\u001b[0m     \u001b[39m*\u001b[39;49m\u001b[39m*\u001b[39;49mmethod_kw,\n\u001b[1;32m   1266\u001b[0m )\n\u001b[1;32m   1267\u001b[0m \u001b[39m# get just the data we want\u001b[39;00m\n\u001b[1;32m   1268\u001b[0m data \u001b[39m=\u001b[39m \u001b[39mself\u001b[39m\u001b[39m.\u001b[39minst\u001b[39m.\u001b[39mget_data(picks\u001b[39m=\u001b[39m\u001b[39mself\u001b[39m\u001b[39m.\u001b[39m_picks)[:, :, \u001b[39mself\u001b[39m\u001b[39m.\u001b[39m_time_mask]\n",
      "File \u001b[0;32m/Applications/anaconda3/envs/NMA/lib/python3.9/site-packages/mne/time_frequency/spectrum.py:322\u001b[0m, in \u001b[0;36mBaseSpectrum.__init__\u001b[0;34m(self, inst, method, fmin, fmax, tmin, tmax, picks, proj, n_jobs, verbose, **method_kw)\u001b[0m\n\u001b[1;32m    320\u001b[0m     invalid_kw \u001b[39m=\u001b[39m np\u001b[39m.\u001b[39marray(\u001b[39mlist\u001b[39m(method_kw))[invalid_ix]\u001b[39m.\u001b[39mtolist()\n\u001b[1;32m    321\u001b[0m     s \u001b[39m=\u001b[39m _pl(invalid_kw)\n\u001b[0;32m--> 322\u001b[0m     \u001b[39mraise\u001b[39;00m \u001b[39mTypeError\u001b[39;00m(\n\u001b[1;32m    323\u001b[0m         \u001b[39mf\u001b[39m\u001b[39m'\u001b[39m\u001b[39mGot unexpected keyword argument\u001b[39m\u001b[39m{\u001b[39;00ms\u001b[39m}\u001b[39;00m\u001b[39m \u001b[39m\u001b[39m{\u001b[39;00m\u001b[39m\"\u001b[39m\u001b[39m, \u001b[39m\u001b[39m\"\u001b[39m\u001b[39m.\u001b[39mjoin(invalid_kw)\u001b[39m}\u001b[39;00m\u001b[39m \u001b[39m\u001b[39m'\u001b[39m\n\u001b[1;32m    324\u001b[0m         \u001b[39mf\u001b[39m\u001b[39m'\u001b[39m\u001b[39mfor PSD method \u001b[39m\u001b[39m\"\u001b[39m\u001b[39m{\u001b[39;00mmethod\u001b[39m}\u001b[39;00m\u001b[39m\"\u001b[39m\u001b[39m.\u001b[39m\u001b[39m'\u001b[39m\n\u001b[1;32m    325\u001b[0m     )\n\u001b[1;32m    326\u001b[0m \u001b[39mself\u001b[39m\u001b[39m.\u001b[39m_psd_func \u001b[39m=\u001b[39m partial(psd_funcs[method], \u001b[39m*\u001b[39m\u001b[39m*\u001b[39mmethod_kw)\n\u001b[1;32m    328\u001b[0m \u001b[39m# apply proj if desired\u001b[39;00m\n",
      "\u001b[0;31mTypeError\u001b[0m: Got unexpected keyword argument estimate for PSD method \"multitaper\"."
     ]
    }
   ],
   "source": [
    "epochObj.compute_psd(estimate='power').plot(picks=\"ecog\")"
   ]
  },
  {
   "cell_type": "code",
   "execution_count": null,
   "metadata": {},
   "outputs": [],
   "source": []
  }
 ],
 "metadata": {
  "kernelspec": {
   "display_name": "NMA",
   "language": "python",
   "name": "python3"
  },
  "language_info": {
   "codemirror_mode": {
    "name": "ipython",
    "version": 3
   },
   "file_extension": ".py",
   "mimetype": "text/x-python",
   "name": "python",
   "nbconvert_exporter": "python",
   "pygments_lexer": "ipython3",
   "version": "3.9.16"
  },
  "orig_nbformat": 4
 },
 "nbformat": 4,
 "nbformat_minor": 2
}
