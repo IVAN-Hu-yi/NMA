{
 "cells": [
  {
   "cell_type": "code",
   "execution_count": 1,
   "metadata": {},
   "outputs": [],
   "source": [
    "from extract_utils import *"
   ]
  },
  {
   "cell_type": "markdown",
   "metadata": {},
   "source": [
    "# Pre-Processing Outline"
   ]
  },
  {
   "cell_type": "markdown",
   "metadata": {},
   "source": [
    "1. Epochs for selected region (window=5s)\n",
    "2. Transform raw data to frequency domain, look for peaks at 0.4-5 Hz\n",
    "3. outliners identification -- e.g. 95% percentile\n",
    "4. Filter out epochs based on:\n",
    "    - peaks at 0.4-5 Hz\n",
    "    - within 95% percentile of power? \n"
   ]
  },
  {
   "cell_type": "markdown",
   "metadata": {},
   "source": [
    "## Obtain relevant patient info"
   ]
  },
  {
   "cell_type": "markdown",
   "metadata": {},
   "source": [
    "- Here we choose patient 8 for our analysis\n",
    "- Figure shown below indicidates the position of electrodes on this patient\n",
    "\n",
    "![elecLoc](Data/electrodePos/ep_sbj_08.png)"
   ]
  },
  {
   "cell_type": "code",
   "execution_count": 2,
   "metadata": {},
   "outputs": [
    {
     "name": "stderr",
     "output_type": "stream",
     "text": [
      "/Applications/anaconda3/envs/NMA/lib/python3.9/site-packages/hdmf/spec/namespace.py:531: UserWarning: Ignoring cached namespace 'hdmf-common' version 1.4.0-alpha because version 1.7.0 is already loaded.\n",
      "  warn(\"Ignoring cached namespace '%s' version %s because version %s is already loaded.\"\n",
      "/Applications/anaconda3/envs/NMA/lib/python3.9/site-packages/hdmf/spec/namespace.py:531: UserWarning: Ignoring cached namespace 'core' version 2.2.5 because version 2.6.0-alpha is already loaded.\n",
      "  warn(\"Ignoring cached namespace '%s' version %s because version %s is already loaded.\"\n",
      "/Applications/anaconda3/envs/NMA/lib/python3.9/site-packages/hdmf/spec/namespace.py:531: UserWarning: Ignoring cached namespace 'hdmf-experimental' version 0.1.0 because version 0.4.0 is already loaded.\n",
      "  warn(\"Ignoring cached namespace '%s' version %s because version %s is already loaded.\"\n"
     ]
    }
   ],
   "source": [
    "# get the nwb file\n",
    "file, _ = get_nwb('08', 3)"
   ]
  },
  {
   "cell_type": "code",
   "execution_count": 3,
   "metadata": {},
   "outputs": [],
   "source": [
    "# table of epochs for all behavioural type\n",
    "allActs, blocklist, acts, epochs = get_epochs(file, True)\n",
    "\n",
    "# get raw data\n",
    "raw = file.acquisition['ElectricalSeries'].data\n",
    "# get good electrode id defined in the literature\n",
    "goodid = file.electrodes.to_dataframe()[file.electrodes.to_dataframe()['good']==True].index"
   ]
  },
  {
   "cell_type": "markdown",
   "metadata": {},
   "source": [
    "## Obtain Epochs for each behaviors"
   ]
  },
  {
   "cell_type": "code",
   "execution_count": 4,
   "metadata": {},
   "outputs": [],
   "source": [
    "# extract all inactive activities\n",
    "inactive = extract_phys_accod_timestamps(raw, epochs['Inactive'], [0, 24])\n",
    "# use the average as baseline\n",
    "d = []\n",
    "for item in inactive.keys():\n",
    "    d.append(epoching(inactive[item])[:, goodid.values,:]) # leave only good electrodes\n",
    "inactiveArray = np.dstack(d)\n",
    "inactiveArray.shape\n",
    "baseline = inactiveArray.mean(axis=2)"
   ]
  },
  {
   "cell_type": "code",
   "execution_count": 15,
   "metadata": {},
   "outputs": [],
   "source": [
    "epochs_behavior = {} # Mapping behavior to corresponding epochs of 5s\n",
    "\n",
    "for item in acts:\n",
    "    # extract recording by bahvior\n",
    "    if item == 'Inactive' or item=='Other activity' or item=='Sleep/rest':\n",
    "        pass\n",
    "    else:\n",
    "        temp = extract_phys_accod_timestamps(raw, epochs[item], [0, 24])\n",
    "        # obtain epochs for each behaviour\n",
    "        d = []\n",
    "        for key in temp.keys():\n",
    "            d.append(epoching(temp[key])[:, goodid.values,:]) # leave only good electrodes\n",
    "        epochs_behavior[item] = np.dstack(d)"
   ]
  },
  {
   "cell_type": "code",
   "execution_count": 72,
   "metadata": {},
   "outputs": [
    {
     "data": {
      "text/plain": [
       "['Computer/phone',\n",
       " 'Eat, TV',\n",
       " 'Inactive',\n",
       " 'Other activity',\n",
       " 'Sleep/rest',\n",
       " 'TV',\n",
       " 'TV, Computer/phone',\n",
       " 'Talk',\n",
       " 'Talk, Computer/phone',\n",
       " 'Talk, TV',\n",
       " 'Talk, TV, Computer/phone']"
      ]
     },
     "execution_count": 72,
     "metadata": {},
     "output_type": "execute_result"
    }
   ],
   "source": [
    "acts"
   ]
  },
  {
   "cell_type": "markdown",
   "metadata": {},
   "source": [
    "## Power Transform"
   ]
  },
  {
   "cell_type": "code",
   "execution_count": 52,
   "metadata": {},
   "outputs": [],
   "source": [
    "import fooof as f\n",
    "import scipy\n",
    "from scipy.signal import welch, firwin, fftconvolve, hilbert\n",
    "from scipy.fft import ifft\n",
    "from scipy.signal import sosfilt"
   ]
  },
  {
   "cell_type": "code",
   "execution_count": 83,
   "metadata": {},
   "outputs": [],
   "source": [
    "acts = ['Computer/phone',\n",
    " 'Eat, TV',\n",
    " 'TV',\n",
    " 'TV, Computer/phone',\n",
    " 'Talk',\n",
    " 'Talk, Computer/phone',\n",
    " 'Talk, TV',\n",
    " 'Talk, TV, Computer/phone']"
   ]
  },
  {
   "cell_type": "code",
   "execution_count": 150,
   "metadata": {},
   "outputs": [],
   "source": [
    "# 4th order IIR filter to extract low-frequence envelop\n",
    "filter_order = 4\n",
    "neural_freq_range = [0.5, 5]\n",
    "sampling_rate = 500\n",
    "filtered_data = {}\n",
    "for item in acts:\n",
    "        item_specific = np.empty((epochs_behavior[item].shape))\n",
    "        for j in range(epochs_behavior[item].shape[1]):\n",
    "                neur_data_curr = epochs_behavior[item][:, j, :]\n",
    "                sos = butter(filter_order, neural_freq_range, btype='bandpass', output='sos', fs=sampling_rate)\n",
    "                item_specific[:, j, :] = sosfiltfilt(sos, neur_data_curr, padlen=0)\n",
    "        filtered_data[item] = item_specific"
   ]
  },
  {
   "cell_type": "code",
   "execution_count": 151,
   "metadata": {},
   "outputs": [],
   "source": [
    "# Select epochs with power within 99% percentile\n",
    "\n",
    "for j in range(filtered_data['TV'].shape[1]): # for each channel\n",
    "    channel_curr = []\n",
    "    for i in range(filtered_data['TV'].shape[-1]): # for each epoch\n",
    "        # Hilbert transform on filtered data\n",
    "        # power = np.abs(hilbert(filtered_data['TV'][:, j, i], ))\n",
    "        # channel_curr.append(power)\n",
    "        # welch transform\n",
    "        freqs, spectrum = welch(filtered_data['TV'][:, j, i], fs=500, scaling='spectrum')\n",
    "        \n",
    "        "
   ]
  },
  {
   "cell_type": "code",
   "execution_count": null,
   "metadata": {},
   "outputs": [],
   "source": []
  }
 ],
 "metadata": {
  "kernelspec": {
   "display_name": "NMA",
   "language": "python",
   "name": "python3"
  },
  "language_info": {
   "codemirror_mode": {
    "name": "ipython",
    "version": 3
   },
   "file_extension": ".py",
   "mimetype": "text/x-python",
   "name": "python",
   "nbconvert_exporter": "python",
   "pygments_lexer": "ipython3",
   "version": "3.9.16"
  },
  "orig_nbformat": 4
 },
 "nbformat": 4,
 "nbformat_minor": 2
}
