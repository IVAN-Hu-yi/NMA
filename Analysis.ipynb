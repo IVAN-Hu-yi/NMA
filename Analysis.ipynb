{
 "cells": [
  {
   "cell_type": "markdown",
   "metadata": {},
   "source": [
    "# Pre-Processing"
   ]
  },
  {
   "cell_type": "markdown",
   "metadata": {},
   "source": [
    "1. Epochs for selected region (window=5s)\n",
    "2. Transform raw data to frequency domain, look for peaks at 0.4-5 Hz\n",
    "3. outliners identification -- e.g. 95% percentile\n",
    "4. Filter out epochs based on:\n",
    "    - peaks at 0.4-5 Hz\n",
    "    - within 95% percentile of power? \n"
   ]
  },
  {
   "cell_type": "markdown",
   "metadata": {},
   "source": [
    "# Manifold Construction"
   ]
  }
 ],
 "metadata": {
  "kernelspec": {
   "display_name": "NMA",
   "language": "python",
   "name": "python3"
  },
  "language_info": {
   "name": "python",
   "version": "3.9.16"
  },
  "orig_nbformat": 4
 },
 "nbformat": 4,
 "nbformat_minor": 2
}
