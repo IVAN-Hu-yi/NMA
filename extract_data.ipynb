{
 "cells": [
  {
   "cell_type": "code",
   "execution_count": 1,
   "metadata": {},
   "outputs": [],
   "source": [
    "# Numerical and plotting packages\n",
    "import seaborn as sns\n",
    "import numpy as np\n",
    "import pandas as pd\n",
    "import statsmodels.api as sm\n",
    "import natsort\n",
    "from scipy.signal import sosfiltfilt, butter, hilbert\n",
    "# Libraries needed for this notebook to interact with the DANDI API\n",
    "from pynwb import NWBHDF5IO\n",
    "from dandi.dandiapi import DandiAPIClient\n",
    "import pynwb\n",
    "\n",
    "# Libraries needed for this notebook to interact with NWB events\n",
    "from ndx_events import LabeledEvents, AnnotatedEventsTable, Events\n",
    "\n",
    "# FSSpec is a library that allows us to read files from the cloud\n",
    "import fsspec\n",
    "\n",
    "# NWB is based on HF5, so we need this library to read NWB files\n",
    "import h5py\n",
    "from fsspec.implementations.cached import CachingFileSystem\n",
    "import matplotlib\n",
    "import os"
   ]
  },
  {
   "cell_type": "markdown",
   "metadata": {},
   "source": [
    "# Extracting Corresponding Data"
   ]
  },
  {
   "cell_type": "markdown",
   "metadata": {},
   "source": [
    "## Extract a dictionary of nwbfile for each subject"
   ]
  },
  {
   "cell_type": "code",
   "execution_count": 2,
   "metadata": {},
   "outputs": [
    {
     "name": "stdout",
     "output_type": "stream",
     "text": [
      "['sub-01/sub-01_ses-3_behavior+ecephys.nwb', 'sub-01/sub-01_ses-4_behavior+ecephys.nwb', 'sub-01/sub-01_ses-5_behavior+ecephys.nwb', 'sub-01/sub-01_ses-7_behavior+ecephys.nwb', 'sub-02/sub-02_ses-3_behavior+ecephys.nwb', 'sub-02/sub-02_ses-4_behavior+ecephys.nwb', 'sub-02/sub-02_ses-5_behavior+ecephys.nwb', 'sub-02/sub-02_ses-6_behavior+ecephys.nwb', 'sub-03/sub-03_ses-3_behavior+ecephys.nwb', 'sub-03/sub-03_ses-4_behavior+ecephys.nwb', 'sub-03/sub-03_ses-5_behavior+ecephys.nwb', 'sub-03/sub-03_ses-6_behavior+ecephys.nwb', 'sub-04/sub-04_ses-3_behavior+ecephys.nwb', 'sub-04/sub-04_ses-4_behavior+ecephys.nwb', 'sub-04/sub-04_ses-5_behavior+ecephys.nwb', 'sub-04/sub-04_ses-6_behavior+ecephys.nwb', 'sub-04/sub-04_ses-7_behavior+ecephys.nwb', 'sub-05/sub-05_ses-3_behavior+ecephys.nwb', 'sub-05/sub-05_ses-4_behavior+ecephys.nwb', 'sub-05/sub-05_ses-7_behavior+ecephys.nwb', 'sub-06/sub-06_ses-3_behavior+ecephys.nwb', 'sub-06/sub-06_ses-4_behavior+ecephys.nwb', 'sub-06/sub-06_ses-5_behavior+ecephys.nwb', 'sub-06/sub-06_ses-6_behavior+ecephys.nwb', 'sub-06/sub-06_ses-7_behavior+ecephys.nwb', 'sub-07/sub-07_ses-3_behavior+ecephys.nwb', 'sub-07/sub-07_ses-4_behavior+ecephys.nwb', 'sub-07/sub-07_ses-5_behavior+ecephys.nwb', 'sub-07/sub-07_ses-6_behavior+ecephys.nwb', 'sub-07/sub-07_ses-7_behavior+ecephys.nwb', 'sub-08/sub-08_ses-3_behavior+ecephys.nwb', 'sub-08/sub-08_ses-4_behavior+ecephys.nwb', 'sub-08/sub-08_ses-5_behavior+ecephys.nwb', 'sub-08/sub-08_ses-6_behavior+ecephys.nwb', 'sub-08/sub-08_ses-7_behavior+ecephys.nwb', 'sub-09/sub-09_ses-3_behavior+ecephys.nwb', 'sub-09/sub-09_ses-4_behavior+ecephys.nwb', 'sub-09/sub-09_ses-5_behavior+ecephys.nwb', 'sub-09/sub-09_ses-6_behavior+ecephys.nwb', 'sub-09/sub-09_ses-7_behavior+ecephys.nwb', 'sub-10/sub-10_ses-3_behavior+ecephys.nwb', 'sub-10/sub-10_ses-4_behavior+ecephys.nwb', 'sub-10/sub-10_ses-5_behavior+ecephys.nwb', 'sub-10/sub-10_ses-6_behavior+ecephys.nwb', 'sub-10/sub-10_ses-7_behavior+ecephys.nwb', 'sub-11/sub-11_ses-3_behavior+ecephys.nwb', 'sub-11/sub-11_ses-4_behavior+ecephys.nwb', 'sub-11/sub-11_ses-5_behavior+ecephys.nwb', 'sub-11/sub-11_ses-6_behavior+ecephys.nwb', 'sub-11/sub-11_ses-7_behavior+ecephys.nwb', 'sub-12/sub-12_ses-3_behavior+ecephys.nwb', 'sub-12/sub-12_ses-4_behavior+ecephys.nwb', 'sub-12/sub-12_ses-5_behavior+ecephys.nwb', 'sub-12/sub-12_ses-6_behavior+ecephys.nwb', 'sub-12/sub-12_ses-7_behavior+ecephys.nwb']\n"
     ]
    }
   ],
   "source": [
    "if not os.path.exists('Data'): # create Data directories\n",
    "    os.mkdir('Data')\n",
    "\n",
    "# Get a list of paths\n",
    "with DandiAPIClient() as client:\n",
    "    paths = []\n",
    "    for file in client.get_dandiset(\"000055\", \"draft\").get_assets_with_path_prefix(\"\"):\n",
    "        paths.append(file.path)\n",
    "paths = natsort.natsorted(paths)\n",
    "print(paths)"
   ]
  },
  {
   "cell_type": "code",
   "execution_count": 3,
   "metadata": {},
   "outputs": [],
   "source": [
    "def extract_id_n_session(path):\n",
    "    path = path.split('/')\n",
    "    sub, file_name = path[0], path[1]\n",
    "    sbj_id = sub[-2:]\n",
    "    sbj_session = file_name.split('_')[1]\n",
    "    return sbj_id, sbj_session[-1]"
   ]
  },
  {
   "cell_type": "code",
   "execution_count": 4,
   "metadata": {},
   "outputs": [],
   "source": [
    "# select one session for each subject\n",
    "\n",
    "sbj_2_session = {}\n",
    "\n",
    "for item in paths:\n",
    "    sbj_id, session = extract_id_n_session(item)\n",
    "\n",
    "    if sbj_id not in sbj_2_session.keys():\n",
    "        sbj_2_session[sbj_id] = session\n",
    "    else:\n",
    "        pass\n",
    "\n",
    "# print(sbj_2_session)"
   ]
  },
  {
   "cell_type": "code",
   "execution_count": 5,
   "metadata": {},
   "outputs": [
    {
     "name": "stderr",
     "output_type": "stream",
     "text": [
      "/Applications/anaconda3/envs/NMA/lib/python3.9/site-packages/hdmf/spec/namespace.py:531: UserWarning: Ignoring cached namespace 'hdmf-common' version 1.4.0-alpha because version 1.7.0 is already loaded.\n",
      "  warn(\"Ignoring cached namespace '%s' version %s because version %s is already loaded.\"\n",
      "/Applications/anaconda3/envs/NMA/lib/python3.9/site-packages/hdmf/spec/namespace.py:531: UserWarning: Ignoring cached namespace 'core' version 2.2.5 because version 2.6.0-alpha is already loaded.\n",
      "  warn(\"Ignoring cached namespace '%s' version %s because version %s is already loaded.\"\n",
      "/Applications/anaconda3/envs/NMA/lib/python3.9/site-packages/hdmf/spec/namespace.py:531: UserWarning: Ignoring cached namespace 'hdmf-experimental' version 0.1.0 because version 0.4.0 is already loaded.\n",
      "  warn(\"Ignoring cached namespace '%s' version %s because version %s is already loaded.\"\n"
     ]
    }
   ],
   "source": [
    "# get files\n",
    "from extract_utils import get_nwb\n",
    "filedict = {}\n",
    "for i, item in enumerate(sbj_2_session.keys()):\n",
    "    sbj_id, sbj_session = item, sbj_2_session[item]\n",
    "    filedict[sbj_id] = get_nwb(sbj_id, sbj_session)"
   ]
  },
  {
   "cell_type": "markdown",
   "metadata": {},
   "source": [
    "# Plot electrode locations for all subject"
   ]
  },
  {
   "cell_type": "markdown",
   "metadata": {},
   "source": []
  }
 ],
 "metadata": {
  "kernelspec": {
   "display_name": "NMA",
   "language": "python",
   "name": "python3"
  },
  "language_info": {
   "codemirror_mode": {
    "name": "ipython",
    "version": 3
   },
   "file_extension": ".py",
   "mimetype": "text/x-python",
   "name": "python",
   "nbconvert_exporter": "python",
   "pygments_lexer": "ipython3",
   "version": "3.9.16"
  },
  "orig_nbformat": 4
 },
 "nbformat": 4,
 "nbformat_minor": 2
}
