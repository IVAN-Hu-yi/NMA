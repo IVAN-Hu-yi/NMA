{
 "cells": [
  {
   "cell_type": "code",
   "execution_count": 31,
   "metadata": {},
   "outputs": [],
   "source": [
    "# Numerical and plotting packages\n",
    "import seaborn as sns\n",
    "import numpy as np\n",
    "import pandas as pd\n",
    "import statsmodels.api as sm\n",
    "import natsort\n",
    "from scipy.signal import sosfiltfilt, butter, hilbert\n",
    "# Libraries needed for this notebook to interact with the DANDI API\n",
    "from pynwb import NWBHDF5IO\n",
    "from dandi.dandiapi import DandiAPIClient\n",
    "\n",
    "# Libraries needed for this notebook to interact with NWB events\n",
    "from ndx_events import LabeledEvents, AnnotatedEventsTable, Events\n",
    "\n",
    "# FSSpec is a library that allows us to read files from the cloud\n",
    "import fsspec\n",
    "\n",
    "# NWB is based on HF5, so we need this library to read NWB files\n",
    "import h5py\n",
    "from fsspec.implementations.cached import CachingFileSystem"
   ]
  },
  {
   "cell_type": "markdown",
   "metadata": {},
   "source": [
    "# Getting a list of Path Locations"
   ]
  },
  {
   "cell_type": "code",
   "execution_count": 68,
   "metadata": {},
   "outputs": [
    {
     "name": "stdout",
     "output_type": "stream",
     "text": [
      "['sub-01/sub-01_ses-3_behavior+ecephys.nwb', 'sub-01/sub-01_ses-4_behavior+ecephys.nwb', 'sub-01/sub-01_ses-5_behavior+ecephys.nwb', 'sub-01/sub-01_ses-7_behavior+ecephys.nwb', 'sub-02/sub-02_ses-3_behavior+ecephys.nwb', 'sub-02/sub-02_ses-4_behavior+ecephys.nwb', 'sub-02/sub-02_ses-5_behavior+ecephys.nwb', 'sub-02/sub-02_ses-6_behavior+ecephys.nwb', 'sub-03/sub-03_ses-3_behavior+ecephys.nwb', 'sub-03/sub-03_ses-4_behavior+ecephys.nwb', 'sub-03/sub-03_ses-5_behavior+ecephys.nwb', 'sub-03/sub-03_ses-6_behavior+ecephys.nwb', 'sub-04/sub-04_ses-3_behavior+ecephys.nwb', 'sub-04/sub-04_ses-4_behavior+ecephys.nwb', 'sub-04/sub-04_ses-5_behavior+ecephys.nwb', 'sub-04/sub-04_ses-6_behavior+ecephys.nwb', 'sub-04/sub-04_ses-7_behavior+ecephys.nwb', 'sub-05/sub-05_ses-3_behavior+ecephys.nwb', 'sub-05/sub-05_ses-4_behavior+ecephys.nwb', 'sub-05/sub-05_ses-7_behavior+ecephys.nwb', 'sub-06/sub-06_ses-3_behavior+ecephys.nwb', 'sub-06/sub-06_ses-4_behavior+ecephys.nwb', 'sub-06/sub-06_ses-5_behavior+ecephys.nwb', 'sub-06/sub-06_ses-6_behavior+ecephys.nwb', 'sub-06/sub-06_ses-7_behavior+ecephys.nwb', 'sub-07/sub-07_ses-3_behavior+ecephys.nwb', 'sub-07/sub-07_ses-4_behavior+ecephys.nwb', 'sub-07/sub-07_ses-5_behavior+ecephys.nwb', 'sub-07/sub-07_ses-6_behavior+ecephys.nwb', 'sub-07/sub-07_ses-7_behavior+ecephys.nwb', 'sub-08/sub-08_ses-3_behavior+ecephys.nwb', 'sub-08/sub-08_ses-4_behavior+ecephys.nwb', 'sub-08/sub-08_ses-5_behavior+ecephys.nwb', 'sub-08/sub-08_ses-6_behavior+ecephys.nwb', 'sub-08/sub-08_ses-7_behavior+ecephys.nwb', 'sub-09/sub-09_ses-3_behavior+ecephys.nwb', 'sub-09/sub-09_ses-4_behavior+ecephys.nwb', 'sub-09/sub-09_ses-5_behavior+ecephys.nwb', 'sub-09/sub-09_ses-6_behavior+ecephys.nwb', 'sub-09/sub-09_ses-7_behavior+ecephys.nwb', 'sub-10/sub-10_ses-3_behavior+ecephys.nwb', 'sub-10/sub-10_ses-4_behavior+ecephys.nwb', 'sub-10/sub-10_ses-5_behavior+ecephys.nwb', 'sub-10/sub-10_ses-6_behavior+ecephys.nwb', 'sub-10/sub-10_ses-7_behavior+ecephys.nwb', 'sub-11/sub-11_ses-3_behavior+ecephys.nwb', 'sub-11/sub-11_ses-4_behavior+ecephys.nwb', 'sub-11/sub-11_ses-5_behavior+ecephys.nwb', 'sub-11/sub-11_ses-6_behavior+ecephys.nwb', 'sub-11/sub-11_ses-7_behavior+ecephys.nwb', 'sub-12/sub-12_ses-3_behavior+ecephys.nwb', 'sub-12/sub-12_ses-4_behavior+ecephys.nwb', 'sub-12/sub-12_ses-5_behavior+ecephys.nwb', 'sub-12/sub-12_ses-6_behavior+ecephys.nwb', 'sub-12/sub-12_ses-7_behavior+ecephys.nwb']\n"
     ]
    }
   ],
   "source": [
    "with DandiAPIClient() as client:\n",
    "    paths = []\n",
    "    for file in client.get_dandiset(\"000055\", \"draft\").get_assets_with_path_prefix(\"\"):\n",
    "        paths.append(file.path)\n",
    "paths = natsort.natsorted(paths)\n",
    "# print(paths)"
   ]
  },
  {
   "cell_type": "markdown",
   "metadata": {},
   "source": [
    "## Access to data on cloud"
   ]
  },
  {
   "cell_type": "code",
   "execution_count": 33,
   "metadata": {},
   "outputs": [],
   "source": [
    "sbj, session = 1, 3  # participant 1, session 3\n",
    "path = f'sub-0{sbj}/sub-0{sbj}_ses-{session}_behavior+ecephys.nwb'\n",
    "# behavior_type = 'Eat' # only analyze data during eating\n",
    "# neural_freq_range = [80, 100]  # Frequency band of interest in Hz\n",
    "# ecog_ch_num = 7 # electrode number over motor cortex\n",
    "# keypoint_of_interest = 'R_Wrist' # right wrist movement\n",
    "# pose_direction = 'vertical'  # 'vertical' or 'horizontal'"
   ]
  },
  {
   "cell_type": "code",
   "execution_count": 34,
   "metadata": {},
   "outputs": [],
   "source": [
    "def get_nwb(sbj, session):\n",
    "    \"\"\" return nwbfile\n",
    "\n",
    "    Parameters\n",
    "    ----------\n",
    "    sbj : _type_\n",
    "        _description_\n",
    "    session : _type_\n",
    "        _description_\n",
    "\n",
    "    Returns\n",
    "    -------\n",
    "    _type_\n",
    "        _description_\n",
    "    \"\"\"\n",
    "\n",
    "    path = f'sub-0{sbj}/sub-0{sbj}_ses-{session}_behavior+ecephys.nwb'\n",
    "    with DandiAPIClient() as client:\n",
    "        asset = client.get_dandiset(\"000055\").get_asset_by_path(\n",
    "            path=path)\n",
    "        s3_path = asset.get_content_url(follow_redirects=1, strip_query=True)\n",
    "        \n",
    "\n",
    "    # Note, caching is set once per access. If you want to change the cache location, you will need to restart the kernel.\n",
    "    fs = CachingFileSystem(\n",
    "        fs=fsspec.filesystem(\"http\"),\n",
    "        # cache_storage=\"nwb-cache\",  # Local folder for the cache\n",
    "    )\n",
    "\n",
    "    f = fs.open(s3_path, \"rb\")\n",
    "    file = h5py.File(f)\n",
    "    io = NWBHDF5IO(file=file, mode='r', load_namespaces=True)\n",
    "    nwbfile = io.read()\n",
    "\n",
    "    return nwbfile, fs"
   ]
  },
  {
   "cell_type": "code",
   "execution_count": 35,
   "metadata": {},
   "outputs": [
    {
     "name": "stderr",
     "output_type": "stream",
     "text": [
      "/Applications/anaconda3/envs/NMA/lib/python3.9/site-packages/hdmf/spec/namespace.py:531: UserWarning: Ignoring cached namespace 'hdmf-common' version 1.4.0-alpha because version 1.7.0 is already loaded.\n",
      "  warn(\"Ignoring cached namespace '%s' version %s because version %s is already loaded.\"\n",
      "/Applications/anaconda3/envs/NMA/lib/python3.9/site-packages/hdmf/spec/namespace.py:531: UserWarning: Ignoring cached namespace 'core' version 2.2.5 because version 2.6.0-alpha is already loaded.\n",
      "  warn(\"Ignoring cached namespace '%s' version %s because version %s is already loaded.\"\n",
      "/Applications/anaconda3/envs/NMA/lib/python3.9/site-packages/hdmf/spec/namespace.py:531: UserWarning: Ignoring cached namespace 'hdmf-experimental' version 0.1.0 because version 0.4.0 is already loaded.\n",
      "  warn(\"Ignoring cached namespace '%s' version %s because version %s is already loaded.\"\n"
     ]
    }
   ],
   "source": [
    "sbj_1_session_3, fs = get_nwb(1, 3)"
   ]
  },
  {
   "cell_type": "code",
   "execution_count": 36,
   "metadata": {},
   "outputs": [],
   "source": [
    "# from AJILE12.plot_utils import prune_clabels, plot_clabels\n",
    "# # Count activity and blocklist coarse label durations for each participant\n",
    "# from AJILE12.plot_utils import clabel_table_create\n",
    "# blocklist_labels = False  # show blocklist (True) or activity (False) label durations\n",
    "\n",
    "# if blocklist_labels:\n",
    "#     common_acts = [\n",
    "#         'Blocklist (Data break)',\n",
    "#         'Blocklist (Camera move/zoom)',\n",
    "#         'Blocklist (Camera occluded)',\n",
    "#         'Blocklist (Experiment)',\n",
    "#         'Blocklist (Private time)',\n",
    "#         'Blocklist (Tether/bandage)',\n",
    "#         'Blocklist (Hands under blanket)',\n",
    "#         'Blocklist (Clinical procedure)',\n",
    "#     ]\n",
    "# else:\n",
    "#     common_acts = [\n",
    "#         'Sleep/rest',\n",
    "#         'Inactive',\n",
    "#         'Talk',\n",
    "#         'TV',\n",
    "#         'Computer/phone',\n",
    "#         'Eat',\n",
    "#         'Other activity',\n",
    "#     ]\n",
    "\n",
    "# # Generate table\n",
    "# clabel_table_create(common_acts,fs=fs)"
   ]
  },
  {
   "cell_type": "code",
   "execution_count": 37,
   "metadata": {},
   "outputs": [],
   "source": [
    "clabels_orig = sbj_1_session_3.intervals['epochs'].to_dataframe()"
   ]
  },
  {
   "cell_type": "code",
   "execution_count": 38,
   "metadata": {},
   "outputs": [],
   "source": [
    "common_acts = [\n",
    "        'Sleep/rest',\n",
    "        'Inactive',\n",
    "        'Talk',\n",
    "        'TV',\n",
    "        'Computer/phone',\n",
    "        'Eat',\n",
    "        'Other activity',\n",
    "    ]"
   ]
  },
  {
   "cell_type": "code",
   "execution_count": 39,
   "metadata": {},
   "outputs": [
    {
     "data": {
      "text/html": [
       "<div>\n",
       "<style scoped>\n",
       "    .dataframe tbody tr th:only-of-type {\n",
       "        vertical-align: middle;\n",
       "    }\n",
       "\n",
       "    .dataframe tbody tr th {\n",
       "        vertical-align: top;\n",
       "    }\n",
       "\n",
       "    .dataframe thead th {\n",
       "        text-align: right;\n",
       "    }\n",
       "</style>\n",
       "<table border=\"1\" class=\"dataframe\">\n",
       "  <thead>\n",
       "    <tr style=\"text-align: right;\">\n",
       "      <th></th>\n",
       "      <th>start_time</th>\n",
       "      <th>stop_time</th>\n",
       "      <th>labels</th>\n",
       "    </tr>\n",
       "    <tr>\n",
       "      <th>id</th>\n",
       "      <th></th>\n",
       "      <th></th>\n",
       "      <th></th>\n",
       "    </tr>\n",
       "  </thead>\n",
       "  <tbody>\n",
       "    <tr>\n",
       "      <th>0</th>\n",
       "      <td>0.000000</td>\n",
       "      <td>86.533333</td>\n",
       "      <td>Blocklist (Data break)</td>\n",
       "    </tr>\n",
       "    <tr>\n",
       "      <th>1</th>\n",
       "      <td>86.533333</td>\n",
       "      <td>206.200000</td>\n",
       "      <td>Sleep/rest</td>\n",
       "    </tr>\n",
       "    <tr>\n",
       "      <th>2</th>\n",
       "      <td>206.200000</td>\n",
       "      <td>206.400000</td>\n",
       "      <td>Blocklist (Data break)</td>\n",
       "    </tr>\n",
       "    <tr>\n",
       "      <th>3</th>\n",
       "      <td>206.400000</td>\n",
       "      <td>326.166667</td>\n",
       "      <td>Sleep/rest</td>\n",
       "    </tr>\n",
       "    <tr>\n",
       "      <th>4</th>\n",
       "      <td>326.166667</td>\n",
       "      <td>326.333333</td>\n",
       "      <td>Blocklist (Data break)</td>\n",
       "    </tr>\n",
       "    <tr>\n",
       "      <th>...</th>\n",
       "      <td>...</td>\n",
       "      <td>...</td>\n",
       "      <td>...</td>\n",
       "    </tr>\n",
       "    <tr>\n",
       "      <th>1422</th>\n",
       "      <td>86135.433333</td>\n",
       "      <td>86135.600000</td>\n",
       "      <td>Blocklist (Data break)</td>\n",
       "    </tr>\n",
       "    <tr>\n",
       "      <th>1423</th>\n",
       "      <td>86135.600000</td>\n",
       "      <td>86255.500000</td>\n",
       "      <td>Sleep/rest</td>\n",
       "    </tr>\n",
       "    <tr>\n",
       "      <th>1424</th>\n",
       "      <td>86255.500000</td>\n",
       "      <td>86255.566667</td>\n",
       "      <td>Blocklist (Data break)</td>\n",
       "    </tr>\n",
       "    <tr>\n",
       "      <th>1425</th>\n",
       "      <td>86255.566667</td>\n",
       "      <td>86375.433333</td>\n",
       "      <td>Sleep/rest</td>\n",
       "    </tr>\n",
       "    <tr>\n",
       "      <th>1426</th>\n",
       "      <td>86375.433333</td>\n",
       "      <td>86400.000000</td>\n",
       "      <td>Blocklist (Data break)</td>\n",
       "    </tr>\n",
       "  </tbody>\n",
       "</table>\n",
       "<p>1427 rows × 3 columns</p>\n",
       "</div>"
      ],
      "text/plain": [
       "        start_time     stop_time                  labels\n",
       "id                                                      \n",
       "0         0.000000     86.533333  Blocklist (Data break)\n",
       "1        86.533333    206.200000              Sleep/rest\n",
       "2       206.200000    206.400000  Blocklist (Data break)\n",
       "3       206.400000    326.166667              Sleep/rest\n",
       "4       326.166667    326.333333  Blocklist (Data break)\n",
       "...            ...           ...                     ...\n",
       "1422  86135.433333  86135.600000  Blocklist (Data break)\n",
       "1423  86135.600000  86255.500000              Sleep/rest\n",
       "1424  86255.500000  86255.566667  Blocklist (Data break)\n",
       "1425  86255.566667  86375.433333              Sleep/rest\n",
       "1426  86375.433333  86400.000000  Blocklist (Data break)\n",
       "\n",
       "[1427 rows x 3 columns]"
      ]
     },
     "execution_count": 39,
     "metadata": {},
     "output_type": "execute_result"
    }
   ],
   "source": [
    "clabels_orig"
   ]
  },
  {
   "cell_type": "code",
   "execution_count": 40,
   "metadata": {},
   "outputs": [],
   "source": [
    "sleep_stamps = clabels_orig[clabels_orig['labels'] == 'Sleep/rest']"
   ]
  },
  {
   "cell_type": "code",
   "execution_count": 41,
   "metadata": {},
   "outputs": [
    {
     "data": {
      "text/html": [
       "\n",
       "        <style>\n",
       "            .container-fields {\n",
       "                font-family: \"Open Sans\", Arial, sans-serif;\n",
       "            }\n",
       "            .container-fields .field-value {\n",
       "                color: #00788E;\n",
       "            }\n",
       "            .container-fields details > summary {\n",
       "                cursor: pointer;\n",
       "                display: list-item;\n",
       "            }\n",
       "            .container-fields details > summary:hover {\n",
       "                color: #0A6EAA;\n",
       "            }\n",
       "        </style>\n",
       "        \n",
       "        <script>\n",
       "            function copyToClipboard(text) {\n",
       "                navigator.clipboard.writeText(text).then(function() {\n",
       "                    console.log('Copied to clipboard: ' + text);\n",
       "                }, function(err) {\n",
       "                    console.error('Could not copy text: ', err);\n",
       "                });\n",
       "            }\n",
       "\n",
       "            document.addEventListener('DOMContentLoaded', function() {\n",
       "                let fieldKeys = document.querySelectorAll('.container-fields .field-key');\n",
       "                fieldKeys.forEach(function(fieldKey) {\n",
       "                    fieldKey.addEventListener('click', function() {\n",
       "                        let accessCode = fieldKey.getAttribute('title').replace('Access code: ', '');\n",
       "                        copyToClipboard(accessCode);\n",
       "                    });\n",
       "                });\n",
       "            });\n",
       "        </script>\n",
       "        <div class='container-wrap'><div class='container-header'><div class='xr-obj-type'><h3>root (NWBFile)</h3></div></div><div style=\"margin-left: 0px;\" class=\"container-fields\"><span class=\"field-key\" title=\".fields['session_description']\">session_description:</span> <span class=\"field-value\">no description</span></div><div style=\"margin-left: 0px;\" class=\"container-fields\"><span class=\"field-key\" title=\".fields['identifier']\">identifier:</span> <span class=\"field-value\">4c571b6c-1028-476f-b0e1-e34aa27b3206</span></div><div style=\"margin-left: 0px;\" class=\"container-fields\"><span class=\"field-key\" title=\".fields['session_start_time']\">session_start_time:</span> <span class=\"field-value\">2000-01-02 19:00:00-05:00</span></div><div style=\"margin-left: 0px;\" class=\"container-fields\"><span class=\"field-key\" title=\".fields['timestamps_reference_time']\">timestamps_reference_time:</span> <span class=\"field-value\">2000-01-02 19:00:00-05:00</span></div><details><summary style=\"display: list-item; margin-left: 0px;\" class=\"container-fields field-key\" title=\".fields['file_create_date']\"><b>file_create_date</b></summary><div style=\"margin-left: 20px;\" class=\"container-fields\"><span class=\"field-value\" title=\".fields['file_create_date'][0]\">2021-06-09 05:44:48.194751-04:00</span></div></details><details><summary style=\"display: list-item; margin-left: 0px;\" class=\"container-fields field-key\" title=\".fields['acquisition']\"><b>acquisition (5)</b></summary><details><summary style=\"display: list-item; margin-left: 20px;\" class=\"container-fields field-key\" title=\".fields['acquisition']['ECGL']\"><b>ECGL</b></summary><div style=\"margin-left: 40px;\" class=\"container-fields\"><span class=\"field-key\" title=\".fields['acquisition']['ECGL'].fields['starting_time']\">starting_time:</span> <span class=\"field-value\">0.0</span></div><div style=\"margin-left: 40px;\" class=\"container-fields\"><span class=\"field-key\" title=\".fields['acquisition']['ECGL'].fields['rate']\">rate:</span> <span class=\"field-value\">500.0</span></div><div style=\"margin-left: 40px;\" class=\"container-fields\"><span class=\"field-key\" title=\".fields['acquisition']['ECGL'].fields['resolution']\">resolution:</span> <span class=\"field-value\">-1.0</span></div><div style=\"margin-left: 40px;\" class=\"container-fields\"><span class=\"field-key\" title=\".fields['acquisition']['ECGL'].fields['comments']\">comments:</span> <span class=\"field-value\">no comments</span></div><div style=\"margin-left: 40px;\" class=\"container-fields\"><span class=\"field-key\" title=\".fields['acquisition']['ECGL'].fields['description']\">description:</span> <span class=\"field-value\">Electrooculography for tracking saccades - left</span></div><div style=\"margin-left: 40px;\" class=\"container-fields\"><span class=\"field-key\" title=\".fields['acquisition']['ECGL'].fields['conversion']\">conversion:</span> <span class=\"field-value\">nan</span></div><div style=\"margin-left: 40px;\" class=\"container-fields\"><span class=\"field-key\" title=\".fields['acquisition']['ECGL'].fields['offset']\">offset:</span> <span class=\"field-value\">0.0</span></div><div style=\"margin-left: 40px;\" class=\"container-fields\"><span class=\"field-key\" title=\".fields['acquisition']['ECGL'].fields['unit']\">unit:</span> <span class=\"field-value\">V</span></div><details><summary style=\"display: list-item; margin-left: 40px;\" class=\"container-fields field-key\" title=\".fields['acquisition']['ECGL'].fields['data']\"><b>data</b></summary></details><div style=\"margin-left: 40px;\" class=\"container-fields\"><span class=\"field-key\" title=\".fields['acquisition']['ECGL'].fields['starting_time_unit']\">starting_time_unit:</span> <span class=\"field-value\">seconds</span></div></details><details><summary style=\"display: list-item; margin-left: 20px;\" class=\"container-fields field-key\" title=\".fields['acquisition']['ECGR']\"><b>ECGR</b></summary><div style=\"margin-left: 40px;\" class=\"container-fields\"><span class=\"field-key\" title=\".fields['acquisition']['ECGR'].fields['starting_time']\">starting_time:</span> <span class=\"field-value\">0.0</span></div><div style=\"margin-left: 40px;\" class=\"container-fields\"><span class=\"field-key\" title=\".fields['acquisition']['ECGR'].fields['rate']\">rate:</span> <span class=\"field-value\">500.0</span></div><div style=\"margin-left: 40px;\" class=\"container-fields\"><span class=\"field-key\" title=\".fields['acquisition']['ECGR'].fields['resolution']\">resolution:</span> <span class=\"field-value\">-1.0</span></div><div style=\"margin-left: 40px;\" class=\"container-fields\"><span class=\"field-key\" title=\".fields['acquisition']['ECGR'].fields['comments']\">comments:</span> <span class=\"field-value\">no comments</span></div><div style=\"margin-left: 40px;\" class=\"container-fields\"><span class=\"field-key\" title=\".fields['acquisition']['ECGR'].fields['description']\">description:</span> <span class=\"field-value\">Electrooculography for tracking saccades - right</span></div><div style=\"margin-left: 40px;\" class=\"container-fields\"><span class=\"field-key\" title=\".fields['acquisition']['ECGR'].fields['conversion']\">conversion:</span> <span class=\"field-value\">nan</span></div><div style=\"margin-left: 40px;\" class=\"container-fields\"><span class=\"field-key\" title=\".fields['acquisition']['ECGR'].fields['offset']\">offset:</span> <span class=\"field-value\">0.0</span></div><div style=\"margin-left: 40px;\" class=\"container-fields\"><span class=\"field-key\" title=\".fields['acquisition']['ECGR'].fields['unit']\">unit:</span> <span class=\"field-value\">V</span></div><details><summary style=\"display: list-item; margin-left: 40px;\" class=\"container-fields field-key\" title=\".fields['acquisition']['ECGR'].fields['data']\"><b>data</b></summary></details><div style=\"margin-left: 40px;\" class=\"container-fields\"><span class=\"field-key\" title=\".fields['acquisition']['ECGR'].fields['starting_time_unit']\">starting_time_unit:</span> <span class=\"field-value\">seconds</span></div></details><details><summary style=\"display: list-item; margin-left: 20px;\" class=\"container-fields field-key\" title=\".fields['acquisition']['EOGL']\"><b>EOGL</b></summary><div style=\"margin-left: 40px;\" class=\"container-fields\"><span class=\"field-key\" title=\".fields['acquisition']['EOGL'].fields['starting_time']\">starting_time:</span> <span class=\"field-value\">0.0</span></div><div style=\"margin-left: 40px;\" class=\"container-fields\"><span class=\"field-key\" title=\".fields['acquisition']['EOGL'].fields['rate']\">rate:</span> <span class=\"field-value\">500.0</span></div><div style=\"margin-left: 40px;\" class=\"container-fields\"><span class=\"field-key\" title=\".fields['acquisition']['EOGL'].fields['resolution']\">resolution:</span> <span class=\"field-value\">-1.0</span></div><div style=\"margin-left: 40px;\" class=\"container-fields\"><span class=\"field-key\" title=\".fields['acquisition']['EOGL'].fields['comments']\">comments:</span> <span class=\"field-value\">no comments</span></div><div style=\"margin-left: 40px;\" class=\"container-fields\"><span class=\"field-key\" title=\".fields['acquisition']['EOGL'].fields['description']\">description:</span> <span class=\"field-value\">Electrooculography for tracking saccades - left</span></div><div style=\"margin-left: 40px;\" class=\"container-fields\"><span class=\"field-key\" title=\".fields['acquisition']['EOGL'].fields['conversion']\">conversion:</span> <span class=\"field-value\">nan</span></div><div style=\"margin-left: 40px;\" class=\"container-fields\"><span class=\"field-key\" title=\".fields['acquisition']['EOGL'].fields['offset']\">offset:</span> <span class=\"field-value\">0.0</span></div><div style=\"margin-left: 40px;\" class=\"container-fields\"><span class=\"field-key\" title=\".fields['acquisition']['EOGL'].fields['unit']\">unit:</span> <span class=\"field-value\">V</span></div><details><summary style=\"display: list-item; margin-left: 40px;\" class=\"container-fields field-key\" title=\".fields['acquisition']['EOGL'].fields['data']\"><b>data</b></summary></details><div style=\"margin-left: 40px;\" class=\"container-fields\"><span class=\"field-key\" title=\".fields['acquisition']['EOGL'].fields['starting_time_unit']\">starting_time_unit:</span> <span class=\"field-value\">seconds</span></div></details><details><summary style=\"display: list-item; margin-left: 20px;\" class=\"container-fields field-key\" title=\".fields['acquisition']['EOGR']\"><b>EOGR</b></summary><div style=\"margin-left: 40px;\" class=\"container-fields\"><span class=\"field-key\" title=\".fields['acquisition']['EOGR'].fields['starting_time']\">starting_time:</span> <span class=\"field-value\">0.0</span></div><div style=\"margin-left: 40px;\" class=\"container-fields\"><span class=\"field-key\" title=\".fields['acquisition']['EOGR'].fields['rate']\">rate:</span> <span class=\"field-value\">500.0</span></div><div style=\"margin-left: 40px;\" class=\"container-fields\"><span class=\"field-key\" title=\".fields['acquisition']['EOGR'].fields['resolution']\">resolution:</span> <span class=\"field-value\">-1.0</span></div><div style=\"margin-left: 40px;\" class=\"container-fields\"><span class=\"field-key\" title=\".fields['acquisition']['EOGR'].fields['comments']\">comments:</span> <span class=\"field-value\">no comments</span></div><div style=\"margin-left: 40px;\" class=\"container-fields\"><span class=\"field-key\" title=\".fields['acquisition']['EOGR'].fields['description']\">description:</span> <span class=\"field-value\">Electrooculography for tracking saccades - right</span></div><div style=\"margin-left: 40px;\" class=\"container-fields\"><span class=\"field-key\" title=\".fields['acquisition']['EOGR'].fields['conversion']\">conversion:</span> <span class=\"field-value\">nan</span></div><div style=\"margin-left: 40px;\" class=\"container-fields\"><span class=\"field-key\" title=\".fields['acquisition']['EOGR'].fields['offset']\">offset:</span> <span class=\"field-value\">0.0</span></div><div style=\"margin-left: 40px;\" class=\"container-fields\"><span class=\"field-key\" title=\".fields['acquisition']['EOGR'].fields['unit']\">unit:</span> <span class=\"field-value\">V</span></div><details><summary style=\"display: list-item; margin-left: 40px;\" class=\"container-fields field-key\" title=\".fields['acquisition']['EOGR'].fields['data']\"><b>data</b></summary></details><div style=\"margin-left: 40px;\" class=\"container-fields\"><span class=\"field-key\" title=\".fields['acquisition']['EOGR'].fields['starting_time_unit']\">starting_time_unit:</span> <span class=\"field-value\">seconds</span></div></details><details><summary style=\"display: list-item; margin-left: 20px;\" class=\"container-fields field-key\" title=\".fields['acquisition']['ElectricalSeries']\"><b>ElectricalSeries</b></summary><div style=\"margin-left: 40px;\" class=\"container-fields\"><span class=\"field-key\" title=\".fields['acquisition']['ElectricalSeries'].fields['starting_time']\">starting_time:</span> <span class=\"field-value\">0.0</span></div><div style=\"margin-left: 40px;\" class=\"container-fields\"><span class=\"field-key\" title=\".fields['acquisition']['ElectricalSeries'].fields['rate']\">rate:</span> <span class=\"field-value\">500.0</span></div><div style=\"margin-left: 40px;\" class=\"container-fields\"><span class=\"field-key\" title=\".fields['acquisition']['ElectricalSeries'].fields['resolution']\">resolution:</span> <span class=\"field-value\">-1.0</span></div><div style=\"margin-left: 40px;\" class=\"container-fields\"><span class=\"field-key\" title=\".fields['acquisition']['ElectricalSeries'].fields['comments']\">comments:</span> <span class=\"field-value\">no comments</span></div><div style=\"margin-left: 40px;\" class=\"container-fields\"><span class=\"field-key\" title=\".fields['acquisition']['ElectricalSeries'].fields['description']\">description:</span> <span class=\"field-value\">no description</span></div><div style=\"margin-left: 40px;\" class=\"container-fields\"><span class=\"field-key\" title=\".fields['acquisition']['ElectricalSeries'].fields['conversion']\">conversion:</span> <span class=\"field-value\">1e-06</span></div><div style=\"margin-left: 40px;\" class=\"container-fields\"><span class=\"field-key\" title=\".fields['acquisition']['ElectricalSeries'].fields['offset']\">offset:</span> <span class=\"field-value\">0.0</span></div><div style=\"margin-left: 40px;\" class=\"container-fields\"><span class=\"field-key\" title=\".fields['acquisition']['ElectricalSeries'].fields['unit']\">unit:</span> <span class=\"field-value\">volts</span></div><details><summary style=\"display: list-item; margin-left: 40px;\" class=\"container-fields field-key\" title=\".fields['acquisition']['ElectricalSeries'].fields['data']\"><b>data</b></summary></details><div style=\"margin-left: 40px;\" class=\"container-fields\"><span class=\"field-key\" title=\".fields['acquisition']['ElectricalSeries'].fields['starting_time_unit']\">starting_time_unit:</span> <span class=\"field-value\">seconds</span></div><details><summary style=\"display: list-item; margin-left: 40px;\" class=\"container-fields field-key\" title=\".fields['acquisition']['ElectricalSeries'].fields['electrodes']\"><b>electrodes</b></summary><div style=\"margin-left: 60px;\" class=\"container-fields\"><span class=\"field-key\" title=\".fields['acquisition']['ElectricalSeries'].fields['electrodes'].fields['description']\">description:</span> <span class=\"field-value\">all electrodes</span></div><details><summary style=\"display: list-item; margin-left: 60px;\" class=\"container-fields field-key\" title=\".fields['acquisition']['ElectricalSeries'].fields['electrodes'].fields['table']\"><b>table</b></summary><div style=\"margin-left: 80px;\" class=\"container-fields\"><span class=\"field-key\" title=\".fields['acquisition']['ElectricalSeries'].fields['electrodes'].fields['table'].fields['description']\">description:</span> <span class=\"field-value\">metadata about extracellular electrodes</span></div><details><summary style=\"display: list-item; margin-left: 80px;\" class=\"container-fields field-key\" title=\".fields['acquisition']['ElectricalSeries'].fields['electrodes'].fields['table'].fields['id']\"><b>id</b></summary></details><div style=\"margin-left: 80px;\" class=\"container-fields\"><span class=\"field-key\" title=\".fields['acquisition']['ElectricalSeries'].fields['electrodes'].fields['table'].fields['colnames']\">colnames:</span> <span class=\"field-value\">('x', 'y', 'z', 'imp', 'location', 'filtering', 'group', 'group_name', 'standard_deviation', 'kurtosis', 'median_deviation', 'good', 'low_freq_R2', 'high_freq_R2')</span></div><div style=\"margin-left: 80px;\" class=\"container-fields\"><span class=\"field-key\" title=\".fields['acquisition']['ElectricalSeries'].fields['electrodes'].fields['table'].fields['columns']\">columns:</span> <span class=\"field-value\">(<hdmf.common.table.VectorData object at 0x16ba8aa30>, <hdmf.common.table.VectorData object at 0x16ba8aa90>, <hdmf.common.table.VectorData object at 0x16ba8aa60>, <hdmf.common.table.VectorData object at 0x16ba8a7c0>, <hdmf.common.table.VectorData object at 0x16ba8a8b0>, <hdmf.common.table.VectorData object at 0x16ba8a130>, <hdmf.common.table.VectorData object at 0x16ba8a700>, <hdmf.common.table.VectorData object at 0x16ba8a2e0>, <hdmf.common.table.VectorData object at 0x16ba8a9d0>, <hdmf.common.table.VectorData object at 0x16ba8a820>, <hdmf.common.table.VectorData object at 0x16ba8a9a0>, <hdmf.common.table.VectorData object at 0x16ba8a5e0>, <hdmf.common.table.VectorData object at 0x16ba8a8e0>, <hdmf.common.table.VectorData object at 0x16ba8a790>)</span></div></details></details></details></details><details><summary style=\"display: list-item; margin-left: 0px;\" class=\"container-fields field-key\" title=\".fields['processing']\"><b>processing (1)</b></summary><details><summary style=\"display: list-item; margin-left: 20px;\" class=\"container-fields field-key\" title=\".fields['processing']['behavior']\"><b>behavior</b></summary><div style=\"margin-left: 40px;\" class=\"container-fields\"><span class=\"field-key\" title=\".fields['processing']['behavior'].fields['description']\">description:</span> <span class=\"field-value\">pose data</span></div><details><summary style=\"display: list-item; margin-left: 40px;\" class=\"container-fields field-key\" title=\".fields['processing']['behavior'].fields['data_interfaces']\"><b>data_interfaces (2)</b></summary><details><summary style=\"display: list-item; margin-left: 60px;\" class=\"container-fields field-key\" title=\".fields['processing']['behavior'].fields['data_interfaces']['Position']\"><b>Position</b></summary><details><summary style=\"display: list-item; margin-left: 80px;\" class=\"container-fields field-key\" title=\".fields['processing']['behavior'].fields['data_interfaces']['Position'].fields['spatial_series']\"><b>spatial_series (9)</b></summary><details><summary style=\"display: list-item; margin-left: 100px;\" class=\"container-fields field-key\" title=\".fields['processing']['behavior'].fields['data_interfaces']['Position'].fields['spatial_series']['L_Ear']\"><b>L_Ear</b></summary><div style=\"margin-left: 120px;\" class=\"container-fields\"><span class=\"field-key\" title=\".fields['processing']['behavior'].fields['data_interfaces']['Position'].fields['spatial_series']['L_Ear'].fields['starting_time']\">starting_time:</span> <span class=\"field-value\">0.0</span></div><div style=\"margin-left: 120px;\" class=\"container-fields\"><span class=\"field-key\" title=\".fields['processing']['behavior'].fields['data_interfaces']['Position'].fields['spatial_series']['L_Ear'].fields['rate']\">rate:</span> <span class=\"field-value\">30.0</span></div><div style=\"margin-left: 120px;\" class=\"container-fields\"><span class=\"field-key\" title=\".fields['processing']['behavior'].fields['data_interfaces']['Position'].fields['spatial_series']['L_Ear'].fields['resolution']\">resolution:</span> <span class=\"field-value\">-1.0</span></div><div style=\"margin-left: 120px;\" class=\"container-fields\"><span class=\"field-key\" title=\".fields['processing']['behavior'].fields['data_interfaces']['Position'].fields['spatial_series']['L_Ear'].fields['comments']\">comments:</span> <span class=\"field-value\">no comments</span></div><div style=\"margin-left: 120px;\" class=\"container-fields\"><span class=\"field-key\" title=\".fields['processing']['behavior'].fields['data_interfaces']['Position'].fields['spatial_series']['L_Ear'].fields['description']\">description:</span> <span class=\"field-value\">no description</span></div><div style=\"margin-left: 120px;\" class=\"container-fields\"><span class=\"field-key\" title=\".fields['processing']['behavior'].fields['data_interfaces']['Position'].fields['spatial_series']['L_Ear'].fields['conversion']\">conversion:</span> <span class=\"field-value\">nan</span></div><div style=\"margin-left: 120px;\" class=\"container-fields\"><span class=\"field-key\" title=\".fields['processing']['behavior'].fields['data_interfaces']['Position'].fields['spatial_series']['L_Ear'].fields['offset']\">offset:</span> <span class=\"field-value\">0.0</span></div><div style=\"margin-left: 120px;\" class=\"container-fields\"><span class=\"field-key\" title=\".fields['processing']['behavior'].fields['data_interfaces']['Position'].fields['spatial_series']['L_Ear'].fields['unit']\">unit:</span> <span class=\"field-value\">meters</span></div><details><summary style=\"display: list-item; margin-left: 120px;\" class=\"container-fields field-key\" title=\".fields['processing']['behavior'].fields['data_interfaces']['Position'].fields['spatial_series']['L_Ear'].fields['data']\"><b>data</b></summary></details><div style=\"margin-left: 120px;\" class=\"container-fields\"><span class=\"field-key\" title=\".fields['processing']['behavior'].fields['data_interfaces']['Position'].fields['spatial_series']['L_Ear'].fields['starting_time_unit']\">starting_time_unit:</span> <span class=\"field-value\">seconds</span></div><div style=\"margin-left: 120px;\" class=\"container-fields\"><span class=\"field-key\" title=\".fields['processing']['behavior'].fields['data_interfaces']['Position'].fields['spatial_series']['L_Ear'].fields['reference_frame']\">reference_frame:</span> <span class=\"field-value\">unknown</span></div></details><details><summary style=\"display: list-item; margin-left: 100px;\" class=\"container-fields field-key\" title=\".fields['processing']['behavior'].fields['data_interfaces']['Position'].fields['spatial_series']['L_Elbow']\"><b>L_Elbow</b></summary><div style=\"margin-left: 120px;\" class=\"container-fields\"><span class=\"field-key\" title=\".fields['processing']['behavior'].fields['data_interfaces']['Position'].fields['spatial_series']['L_Elbow'].fields['starting_time']\">starting_time:</span> <span class=\"field-value\">0.0</span></div><div style=\"margin-left: 120px;\" class=\"container-fields\"><span class=\"field-key\" title=\".fields['processing']['behavior'].fields['data_interfaces']['Position'].fields['spatial_series']['L_Elbow'].fields['rate']\">rate:</span> <span class=\"field-value\">30.0</span></div><div style=\"margin-left: 120px;\" class=\"container-fields\"><span class=\"field-key\" title=\".fields['processing']['behavior'].fields['data_interfaces']['Position'].fields['spatial_series']['L_Elbow'].fields['resolution']\">resolution:</span> <span class=\"field-value\">-1.0</span></div><div style=\"margin-left: 120px;\" class=\"container-fields\"><span class=\"field-key\" title=\".fields['processing']['behavior'].fields['data_interfaces']['Position'].fields['spatial_series']['L_Elbow'].fields['comments']\">comments:</span> <span class=\"field-value\">no comments</span></div><div style=\"margin-left: 120px;\" class=\"container-fields\"><span class=\"field-key\" title=\".fields['processing']['behavior'].fields['data_interfaces']['Position'].fields['spatial_series']['L_Elbow'].fields['description']\">description:</span> <span class=\"field-value\">no description</span></div><div style=\"margin-left: 120px;\" class=\"container-fields\"><span class=\"field-key\" title=\".fields['processing']['behavior'].fields['data_interfaces']['Position'].fields['spatial_series']['L_Elbow'].fields['conversion']\">conversion:</span> <span class=\"field-value\">nan</span></div><div style=\"margin-left: 120px;\" class=\"container-fields\"><span class=\"field-key\" title=\".fields['processing']['behavior'].fields['data_interfaces']['Position'].fields['spatial_series']['L_Elbow'].fields['offset']\">offset:</span> <span class=\"field-value\">0.0</span></div><div style=\"margin-left: 120px;\" class=\"container-fields\"><span class=\"field-key\" title=\".fields['processing']['behavior'].fields['data_interfaces']['Position'].fields['spatial_series']['L_Elbow'].fields['unit']\">unit:</span> <span class=\"field-value\">meters</span></div><details><summary style=\"display: list-item; margin-left: 120px;\" class=\"container-fields field-key\" title=\".fields['processing']['behavior'].fields['data_interfaces']['Position'].fields['spatial_series']['L_Elbow'].fields['data']\"><b>data</b></summary></details><div style=\"margin-left: 120px;\" class=\"container-fields\"><span class=\"field-key\" title=\".fields['processing']['behavior'].fields['data_interfaces']['Position'].fields['spatial_series']['L_Elbow'].fields['starting_time_unit']\">starting_time_unit:</span> <span class=\"field-value\">seconds</span></div><div style=\"margin-left: 120px;\" class=\"container-fields\"><span class=\"field-key\" title=\".fields['processing']['behavior'].fields['data_interfaces']['Position'].fields['spatial_series']['L_Elbow'].fields['reference_frame']\">reference_frame:</span> <span class=\"field-value\">unknown</span></div></details><details><summary style=\"display: list-item; margin-left: 100px;\" class=\"container-fields field-key\" title=\".fields['processing']['behavior'].fields['data_interfaces']['Position'].fields['spatial_series']['L_Shoulder']\"><b>L_Shoulder</b></summary><div style=\"margin-left: 120px;\" class=\"container-fields\"><span class=\"field-key\" title=\".fields['processing']['behavior'].fields['data_interfaces']['Position'].fields['spatial_series']['L_Shoulder'].fields['starting_time']\">starting_time:</span> <span class=\"field-value\">0.0</span></div><div style=\"margin-left: 120px;\" class=\"container-fields\"><span class=\"field-key\" title=\".fields['processing']['behavior'].fields['data_interfaces']['Position'].fields['spatial_series']['L_Shoulder'].fields['rate']\">rate:</span> <span class=\"field-value\">30.0</span></div><div style=\"margin-left: 120px;\" class=\"container-fields\"><span class=\"field-key\" title=\".fields['processing']['behavior'].fields['data_interfaces']['Position'].fields['spatial_series']['L_Shoulder'].fields['resolution']\">resolution:</span> <span class=\"field-value\">-1.0</span></div><div style=\"margin-left: 120px;\" class=\"container-fields\"><span class=\"field-key\" title=\".fields['processing']['behavior'].fields['data_interfaces']['Position'].fields['spatial_series']['L_Shoulder'].fields['comments']\">comments:</span> <span class=\"field-value\">no comments</span></div><div style=\"margin-left: 120px;\" class=\"container-fields\"><span class=\"field-key\" title=\".fields['processing']['behavior'].fields['data_interfaces']['Position'].fields['spatial_series']['L_Shoulder'].fields['description']\">description:</span> <span class=\"field-value\">no description</span></div><div style=\"margin-left: 120px;\" class=\"container-fields\"><span class=\"field-key\" title=\".fields['processing']['behavior'].fields['data_interfaces']['Position'].fields['spatial_series']['L_Shoulder'].fields['conversion']\">conversion:</span> <span class=\"field-value\">nan</span></div><div style=\"margin-left: 120px;\" class=\"container-fields\"><span class=\"field-key\" title=\".fields['processing']['behavior'].fields['data_interfaces']['Position'].fields['spatial_series']['L_Shoulder'].fields['offset']\">offset:</span> <span class=\"field-value\">0.0</span></div><div style=\"margin-left: 120px;\" class=\"container-fields\"><span class=\"field-key\" title=\".fields['processing']['behavior'].fields['data_interfaces']['Position'].fields['spatial_series']['L_Shoulder'].fields['unit']\">unit:</span> <span class=\"field-value\">meters</span></div><details><summary style=\"display: list-item; margin-left: 120px;\" class=\"container-fields field-key\" title=\".fields['processing']['behavior'].fields['data_interfaces']['Position'].fields['spatial_series']['L_Shoulder'].fields['data']\"><b>data</b></summary></details><div style=\"margin-left: 120px;\" class=\"container-fields\"><span class=\"field-key\" title=\".fields['processing']['behavior'].fields['data_interfaces']['Position'].fields['spatial_series']['L_Shoulder'].fields['starting_time_unit']\">starting_time_unit:</span> <span class=\"field-value\">seconds</span></div><div style=\"margin-left: 120px;\" class=\"container-fields\"><span class=\"field-key\" title=\".fields['processing']['behavior'].fields['data_interfaces']['Position'].fields['spatial_series']['L_Shoulder'].fields['reference_frame']\">reference_frame:</span> <span class=\"field-value\">unknown</span></div></details><details><summary style=\"display: list-item; margin-left: 100px;\" class=\"container-fields field-key\" title=\".fields['processing']['behavior'].fields['data_interfaces']['Position'].fields['spatial_series']['L_Wrist']\"><b>L_Wrist</b></summary><div style=\"margin-left: 120px;\" class=\"container-fields\"><span class=\"field-key\" title=\".fields['processing']['behavior'].fields['data_interfaces']['Position'].fields['spatial_series']['L_Wrist'].fields['starting_time']\">starting_time:</span> <span class=\"field-value\">0.0</span></div><div style=\"margin-left: 120px;\" class=\"container-fields\"><span class=\"field-key\" title=\".fields['processing']['behavior'].fields['data_interfaces']['Position'].fields['spatial_series']['L_Wrist'].fields['rate']\">rate:</span> <span class=\"field-value\">30.0</span></div><div style=\"margin-left: 120px;\" class=\"container-fields\"><span class=\"field-key\" title=\".fields['processing']['behavior'].fields['data_interfaces']['Position'].fields['spatial_series']['L_Wrist'].fields['resolution']\">resolution:</span> <span class=\"field-value\">-1.0</span></div><div style=\"margin-left: 120px;\" class=\"container-fields\"><span class=\"field-key\" title=\".fields['processing']['behavior'].fields['data_interfaces']['Position'].fields['spatial_series']['L_Wrist'].fields['comments']\">comments:</span> <span class=\"field-value\">no comments</span></div><div style=\"margin-left: 120px;\" class=\"container-fields\"><span class=\"field-key\" title=\".fields['processing']['behavior'].fields['data_interfaces']['Position'].fields['spatial_series']['L_Wrist'].fields['description']\">description:</span> <span class=\"field-value\">no description</span></div><div style=\"margin-left: 120px;\" class=\"container-fields\"><span class=\"field-key\" title=\".fields['processing']['behavior'].fields['data_interfaces']['Position'].fields['spatial_series']['L_Wrist'].fields['conversion']\">conversion:</span> <span class=\"field-value\">nan</span></div><div style=\"margin-left: 120px;\" class=\"container-fields\"><span class=\"field-key\" title=\".fields['processing']['behavior'].fields['data_interfaces']['Position'].fields['spatial_series']['L_Wrist'].fields['offset']\">offset:</span> <span class=\"field-value\">0.0</span></div><div style=\"margin-left: 120px;\" class=\"container-fields\"><span class=\"field-key\" title=\".fields['processing']['behavior'].fields['data_interfaces']['Position'].fields['spatial_series']['L_Wrist'].fields['unit']\">unit:</span> <span class=\"field-value\">meters</span></div><details><summary style=\"display: list-item; margin-left: 120px;\" class=\"container-fields field-key\" title=\".fields['processing']['behavior'].fields['data_interfaces']['Position'].fields['spatial_series']['L_Wrist'].fields['data']\"><b>data</b></summary></details><div style=\"margin-left: 120px;\" class=\"container-fields\"><span class=\"field-key\" title=\".fields['processing']['behavior'].fields['data_interfaces']['Position'].fields['spatial_series']['L_Wrist'].fields['starting_time_unit']\">starting_time_unit:</span> <span class=\"field-value\">seconds</span></div><div style=\"margin-left: 120px;\" class=\"container-fields\"><span class=\"field-key\" title=\".fields['processing']['behavior'].fields['data_interfaces']['Position'].fields['spatial_series']['L_Wrist'].fields['reference_frame']\">reference_frame:</span> <span class=\"field-value\">unknown</span></div></details><details><summary style=\"display: list-item; margin-left: 100px;\" class=\"container-fields field-key\" title=\".fields['processing']['behavior'].fields['data_interfaces']['Position'].fields['spatial_series']['Nose']\"><b>Nose</b></summary><div style=\"margin-left: 120px;\" class=\"container-fields\"><span class=\"field-key\" title=\".fields['processing']['behavior'].fields['data_interfaces']['Position'].fields['spatial_series']['Nose'].fields['starting_time']\">starting_time:</span> <span class=\"field-value\">0.0</span></div><div style=\"margin-left: 120px;\" class=\"container-fields\"><span class=\"field-key\" title=\".fields['processing']['behavior'].fields['data_interfaces']['Position'].fields['spatial_series']['Nose'].fields['rate']\">rate:</span> <span class=\"field-value\">30.0</span></div><div style=\"margin-left: 120px;\" class=\"container-fields\"><span class=\"field-key\" title=\".fields['processing']['behavior'].fields['data_interfaces']['Position'].fields['spatial_series']['Nose'].fields['resolution']\">resolution:</span> <span class=\"field-value\">-1.0</span></div><div style=\"margin-left: 120px;\" class=\"container-fields\"><span class=\"field-key\" title=\".fields['processing']['behavior'].fields['data_interfaces']['Position'].fields['spatial_series']['Nose'].fields['comments']\">comments:</span> <span class=\"field-value\">no comments</span></div><div style=\"margin-left: 120px;\" class=\"container-fields\"><span class=\"field-key\" title=\".fields['processing']['behavior'].fields['data_interfaces']['Position'].fields['spatial_series']['Nose'].fields['description']\">description:</span> <span class=\"field-value\">no description</span></div><div style=\"margin-left: 120px;\" class=\"container-fields\"><span class=\"field-key\" title=\".fields['processing']['behavior'].fields['data_interfaces']['Position'].fields['spatial_series']['Nose'].fields['conversion']\">conversion:</span> <span class=\"field-value\">nan</span></div><div style=\"margin-left: 120px;\" class=\"container-fields\"><span class=\"field-key\" title=\".fields['processing']['behavior'].fields['data_interfaces']['Position'].fields['spatial_series']['Nose'].fields['offset']\">offset:</span> <span class=\"field-value\">0.0</span></div><div style=\"margin-left: 120px;\" class=\"container-fields\"><span class=\"field-key\" title=\".fields['processing']['behavior'].fields['data_interfaces']['Position'].fields['spatial_series']['Nose'].fields['unit']\">unit:</span> <span class=\"field-value\">meters</span></div><details><summary style=\"display: list-item; margin-left: 120px;\" class=\"container-fields field-key\" title=\".fields['processing']['behavior'].fields['data_interfaces']['Position'].fields['spatial_series']['Nose'].fields['data']\"><b>data</b></summary></details><div style=\"margin-left: 120px;\" class=\"container-fields\"><span class=\"field-key\" title=\".fields['processing']['behavior'].fields['data_interfaces']['Position'].fields['spatial_series']['Nose'].fields['starting_time_unit']\">starting_time_unit:</span> <span class=\"field-value\">seconds</span></div><div style=\"margin-left: 120px;\" class=\"container-fields\"><span class=\"field-key\" title=\".fields['processing']['behavior'].fields['data_interfaces']['Position'].fields['spatial_series']['Nose'].fields['reference_frame']\">reference_frame:</span> <span class=\"field-value\">unknown</span></div></details><details><summary style=\"display: list-item; margin-left: 100px;\" class=\"container-fields field-key\" title=\".fields['processing']['behavior'].fields['data_interfaces']['Position'].fields['spatial_series']['R_Ear']\"><b>R_Ear</b></summary><div style=\"margin-left: 120px;\" class=\"container-fields\"><span class=\"field-key\" title=\".fields['processing']['behavior'].fields['data_interfaces']['Position'].fields['spatial_series']['R_Ear'].fields['starting_time']\">starting_time:</span> <span class=\"field-value\">0.0</span></div><div style=\"margin-left: 120px;\" class=\"container-fields\"><span class=\"field-key\" title=\".fields['processing']['behavior'].fields['data_interfaces']['Position'].fields['spatial_series']['R_Ear'].fields['rate']\">rate:</span> <span class=\"field-value\">30.0</span></div><div style=\"margin-left: 120px;\" class=\"container-fields\"><span class=\"field-key\" title=\".fields['processing']['behavior'].fields['data_interfaces']['Position'].fields['spatial_series']['R_Ear'].fields['resolution']\">resolution:</span> <span class=\"field-value\">-1.0</span></div><div style=\"margin-left: 120px;\" class=\"container-fields\"><span class=\"field-key\" title=\".fields['processing']['behavior'].fields['data_interfaces']['Position'].fields['spatial_series']['R_Ear'].fields['comments']\">comments:</span> <span class=\"field-value\">no comments</span></div><div style=\"margin-left: 120px;\" class=\"container-fields\"><span class=\"field-key\" title=\".fields['processing']['behavior'].fields['data_interfaces']['Position'].fields['spatial_series']['R_Ear'].fields['description']\">description:</span> <span class=\"field-value\">no description</span></div><div style=\"margin-left: 120px;\" class=\"container-fields\"><span class=\"field-key\" title=\".fields['processing']['behavior'].fields['data_interfaces']['Position'].fields['spatial_series']['R_Ear'].fields['conversion']\">conversion:</span> <span class=\"field-value\">nan</span></div><div style=\"margin-left: 120px;\" class=\"container-fields\"><span class=\"field-key\" title=\".fields['processing']['behavior'].fields['data_interfaces']['Position'].fields['spatial_series']['R_Ear'].fields['offset']\">offset:</span> <span class=\"field-value\">0.0</span></div><div style=\"margin-left: 120px;\" class=\"container-fields\"><span class=\"field-key\" title=\".fields['processing']['behavior'].fields['data_interfaces']['Position'].fields['spatial_series']['R_Ear'].fields['unit']\">unit:</span> <span class=\"field-value\">meters</span></div><details><summary style=\"display: list-item; margin-left: 120px;\" class=\"container-fields field-key\" title=\".fields['processing']['behavior'].fields['data_interfaces']['Position'].fields['spatial_series']['R_Ear'].fields['data']\"><b>data</b></summary></details><div style=\"margin-left: 120px;\" class=\"container-fields\"><span class=\"field-key\" title=\".fields['processing']['behavior'].fields['data_interfaces']['Position'].fields['spatial_series']['R_Ear'].fields['starting_time_unit']\">starting_time_unit:</span> <span class=\"field-value\">seconds</span></div><div style=\"margin-left: 120px;\" class=\"container-fields\"><span class=\"field-key\" title=\".fields['processing']['behavior'].fields['data_interfaces']['Position'].fields['spatial_series']['R_Ear'].fields['reference_frame']\">reference_frame:</span> <span class=\"field-value\">unknown</span></div></details><details><summary style=\"display: list-item; margin-left: 100px;\" class=\"container-fields field-key\" title=\".fields['processing']['behavior'].fields['data_interfaces']['Position'].fields['spatial_series']['R_Elbow']\"><b>R_Elbow</b></summary><div style=\"margin-left: 120px;\" class=\"container-fields\"><span class=\"field-key\" title=\".fields['processing']['behavior'].fields['data_interfaces']['Position'].fields['spatial_series']['R_Elbow'].fields['starting_time']\">starting_time:</span> <span class=\"field-value\">0.0</span></div><div style=\"margin-left: 120px;\" class=\"container-fields\"><span class=\"field-key\" title=\".fields['processing']['behavior'].fields['data_interfaces']['Position'].fields['spatial_series']['R_Elbow'].fields['rate']\">rate:</span> <span class=\"field-value\">30.0</span></div><div style=\"margin-left: 120px;\" class=\"container-fields\"><span class=\"field-key\" title=\".fields['processing']['behavior'].fields['data_interfaces']['Position'].fields['spatial_series']['R_Elbow'].fields['resolution']\">resolution:</span> <span class=\"field-value\">-1.0</span></div><div style=\"margin-left: 120px;\" class=\"container-fields\"><span class=\"field-key\" title=\".fields['processing']['behavior'].fields['data_interfaces']['Position'].fields['spatial_series']['R_Elbow'].fields['comments']\">comments:</span> <span class=\"field-value\">no comments</span></div><div style=\"margin-left: 120px;\" class=\"container-fields\"><span class=\"field-key\" title=\".fields['processing']['behavior'].fields['data_interfaces']['Position'].fields['spatial_series']['R_Elbow'].fields['description']\">description:</span> <span class=\"field-value\">no description</span></div><div style=\"margin-left: 120px;\" class=\"container-fields\"><span class=\"field-key\" title=\".fields['processing']['behavior'].fields['data_interfaces']['Position'].fields['spatial_series']['R_Elbow'].fields['conversion']\">conversion:</span> <span class=\"field-value\">nan</span></div><div style=\"margin-left: 120px;\" class=\"container-fields\"><span class=\"field-key\" title=\".fields['processing']['behavior'].fields['data_interfaces']['Position'].fields['spatial_series']['R_Elbow'].fields['offset']\">offset:</span> <span class=\"field-value\">0.0</span></div><div style=\"margin-left: 120px;\" class=\"container-fields\"><span class=\"field-key\" title=\".fields['processing']['behavior'].fields['data_interfaces']['Position'].fields['spatial_series']['R_Elbow'].fields['unit']\">unit:</span> <span class=\"field-value\">meters</span></div><details><summary style=\"display: list-item; margin-left: 120px;\" class=\"container-fields field-key\" title=\".fields['processing']['behavior'].fields['data_interfaces']['Position'].fields['spatial_series']['R_Elbow'].fields['data']\"><b>data</b></summary></details><div style=\"margin-left: 120px;\" class=\"container-fields\"><span class=\"field-key\" title=\".fields['processing']['behavior'].fields['data_interfaces']['Position'].fields['spatial_series']['R_Elbow'].fields['starting_time_unit']\">starting_time_unit:</span> <span class=\"field-value\">seconds</span></div><div style=\"margin-left: 120px;\" class=\"container-fields\"><span class=\"field-key\" title=\".fields['processing']['behavior'].fields['data_interfaces']['Position'].fields['spatial_series']['R_Elbow'].fields['reference_frame']\">reference_frame:</span> <span class=\"field-value\">unknown</span></div></details><details><summary style=\"display: list-item; margin-left: 100px;\" class=\"container-fields field-key\" title=\".fields['processing']['behavior'].fields['data_interfaces']['Position'].fields['spatial_series']['R_Shoulder']\"><b>R_Shoulder</b></summary><div style=\"margin-left: 120px;\" class=\"container-fields\"><span class=\"field-key\" title=\".fields['processing']['behavior'].fields['data_interfaces']['Position'].fields['spatial_series']['R_Shoulder'].fields['starting_time']\">starting_time:</span> <span class=\"field-value\">0.0</span></div><div style=\"margin-left: 120px;\" class=\"container-fields\"><span class=\"field-key\" title=\".fields['processing']['behavior'].fields['data_interfaces']['Position'].fields['spatial_series']['R_Shoulder'].fields['rate']\">rate:</span> <span class=\"field-value\">30.0</span></div><div style=\"margin-left: 120px;\" class=\"container-fields\"><span class=\"field-key\" title=\".fields['processing']['behavior'].fields['data_interfaces']['Position'].fields['spatial_series']['R_Shoulder'].fields['resolution']\">resolution:</span> <span class=\"field-value\">-1.0</span></div><div style=\"margin-left: 120px;\" class=\"container-fields\"><span class=\"field-key\" title=\".fields['processing']['behavior'].fields['data_interfaces']['Position'].fields['spatial_series']['R_Shoulder'].fields['comments']\">comments:</span> <span class=\"field-value\">no comments</span></div><div style=\"margin-left: 120px;\" class=\"container-fields\"><span class=\"field-key\" title=\".fields['processing']['behavior'].fields['data_interfaces']['Position'].fields['spatial_series']['R_Shoulder'].fields['description']\">description:</span> <span class=\"field-value\">no description</span></div><div style=\"margin-left: 120px;\" class=\"container-fields\"><span class=\"field-key\" title=\".fields['processing']['behavior'].fields['data_interfaces']['Position'].fields['spatial_series']['R_Shoulder'].fields['conversion']\">conversion:</span> <span class=\"field-value\">nan</span></div><div style=\"margin-left: 120px;\" class=\"container-fields\"><span class=\"field-key\" title=\".fields['processing']['behavior'].fields['data_interfaces']['Position'].fields['spatial_series']['R_Shoulder'].fields['offset']\">offset:</span> <span class=\"field-value\">0.0</span></div><div style=\"margin-left: 120px;\" class=\"container-fields\"><span class=\"field-key\" title=\".fields['processing']['behavior'].fields['data_interfaces']['Position'].fields['spatial_series']['R_Shoulder'].fields['unit']\">unit:</span> <span class=\"field-value\">meters</span></div><details><summary style=\"display: list-item; margin-left: 120px;\" class=\"container-fields field-key\" title=\".fields['processing']['behavior'].fields['data_interfaces']['Position'].fields['spatial_series']['R_Shoulder'].fields['data']\"><b>data</b></summary></details><div style=\"margin-left: 120px;\" class=\"container-fields\"><span class=\"field-key\" title=\".fields['processing']['behavior'].fields['data_interfaces']['Position'].fields['spatial_series']['R_Shoulder'].fields['starting_time_unit']\">starting_time_unit:</span> <span class=\"field-value\">seconds</span></div><div style=\"margin-left: 120px;\" class=\"container-fields\"><span class=\"field-key\" title=\".fields['processing']['behavior'].fields['data_interfaces']['Position'].fields['spatial_series']['R_Shoulder'].fields['reference_frame']\">reference_frame:</span> <span class=\"field-value\">unknown</span></div></details><details><summary style=\"display: list-item; margin-left: 100px;\" class=\"container-fields field-key\" title=\".fields['processing']['behavior'].fields['data_interfaces']['Position'].fields['spatial_series']['R_Wrist']\"><b>R_Wrist</b></summary><div style=\"margin-left: 120px;\" class=\"container-fields\"><span class=\"field-key\" title=\".fields['processing']['behavior'].fields['data_interfaces']['Position'].fields['spatial_series']['R_Wrist'].fields['starting_time']\">starting_time:</span> <span class=\"field-value\">0.0</span></div><div style=\"margin-left: 120px;\" class=\"container-fields\"><span class=\"field-key\" title=\".fields['processing']['behavior'].fields['data_interfaces']['Position'].fields['spatial_series']['R_Wrist'].fields['rate']\">rate:</span> <span class=\"field-value\">30.0</span></div><div style=\"margin-left: 120px;\" class=\"container-fields\"><span class=\"field-key\" title=\".fields['processing']['behavior'].fields['data_interfaces']['Position'].fields['spatial_series']['R_Wrist'].fields['resolution']\">resolution:</span> <span class=\"field-value\">-1.0</span></div><div style=\"margin-left: 120px;\" class=\"container-fields\"><span class=\"field-key\" title=\".fields['processing']['behavior'].fields['data_interfaces']['Position'].fields['spatial_series']['R_Wrist'].fields['comments']\">comments:</span> <span class=\"field-value\">no comments</span></div><div style=\"margin-left: 120px;\" class=\"container-fields\"><span class=\"field-key\" title=\".fields['processing']['behavior'].fields['data_interfaces']['Position'].fields['spatial_series']['R_Wrist'].fields['description']\">description:</span> <span class=\"field-value\">no description</span></div><div style=\"margin-left: 120px;\" class=\"container-fields\"><span class=\"field-key\" title=\".fields['processing']['behavior'].fields['data_interfaces']['Position'].fields['spatial_series']['R_Wrist'].fields['conversion']\">conversion:</span> <span class=\"field-value\">nan</span></div><div style=\"margin-left: 120px;\" class=\"container-fields\"><span class=\"field-key\" title=\".fields['processing']['behavior'].fields['data_interfaces']['Position'].fields['spatial_series']['R_Wrist'].fields['offset']\">offset:</span> <span class=\"field-value\">0.0</span></div><div style=\"margin-left: 120px;\" class=\"container-fields\"><span class=\"field-key\" title=\".fields['processing']['behavior'].fields['data_interfaces']['Position'].fields['spatial_series']['R_Wrist'].fields['unit']\">unit:</span> <span class=\"field-value\">meters</span></div><details><summary style=\"display: list-item; margin-left: 120px;\" class=\"container-fields field-key\" title=\".fields['processing']['behavior'].fields['data_interfaces']['Position'].fields['spatial_series']['R_Wrist'].fields['data']\"><b>data</b></summary></details><div style=\"margin-left: 120px;\" class=\"container-fields\"><span class=\"field-key\" title=\".fields['processing']['behavior'].fields['data_interfaces']['Position'].fields['spatial_series']['R_Wrist'].fields['starting_time_unit']\">starting_time_unit:</span> <span class=\"field-value\">seconds</span></div><div style=\"margin-left: 120px;\" class=\"container-fields\"><span class=\"field-key\" title=\".fields['processing']['behavior'].fields['data_interfaces']['Position'].fields['spatial_series']['R_Wrist'].fields['reference_frame']\">reference_frame:</span> <span class=\"field-value\">unknown</span></div></details></details></details><details><summary style=\"display: list-item; margin-left: 60px;\" class=\"container-fields field-key\" title=\".fields['processing']['behavior'].fields['data_interfaces']['ReachEvents']\"><b>ReachEvents</b></summary><div style=\"margin-left: 80px;\" class=\"container-fields\"><span class=\"field-key\" title=\".fields['processing']['behavior'].fields['data_interfaces']['ReachEvents'].fields['description']\">description:</span> <span class=\"field-value\">r_wrist</span></div><details><summary style=\"display: list-item; margin-left: 80px;\" class=\"container-fields field-key\" title=\".fields['processing']['behavior'].fields['data_interfaces']['ReachEvents'].fields['timestamps']\"><b>timestamps</b></summary></details><div style=\"margin-left: 80px;\" class=\"container-fields\"><span class=\"field-key\" title=\".fields['processing']['behavior'].fields['data_interfaces']['ReachEvents'].fields['resolution']\">resolution:</span> <span class=\"field-value\">0.002</span></div><div style=\"margin-left: 80px;\" class=\"container-fields\"><span class=\"field-key\" title=\".fields['processing']['behavior'].fields['data_interfaces']['ReachEvents'].fields['unit']\">unit:</span> <span class=\"field-value\">seconds</span></div></details></details></details></details><div style=\"margin-left: 0px;\" class=\"container-fields\"><span class=\"field-key\" title=\".fields['epoch_tags']\">epoch_tags:</span> <span class=\"field-value\">set()</span></div><details><summary style=\"display: list-item; margin-left: 0px;\" class=\"container-fields field-key\" title=\".fields['electrodes']\"><b>electrodes</b></summary><div style=\"margin-left: 20px;\" class=\"container-fields\"><span class=\"field-key\" title=\".fields['electrodes'].fields['description']\">description:</span> <span class=\"field-value\">metadata about extracellular electrodes</span></div><details><summary style=\"display: list-item; margin-left: 20px;\" class=\"container-fields field-key\" title=\".fields['electrodes'].fields['id']\"><b>id</b></summary></details><div style=\"margin-left: 20px;\" class=\"container-fields\"><span class=\"field-key\" title=\".fields['electrodes'].fields['colnames']\">colnames:</span> <span class=\"field-value\">('x', 'y', 'z', 'imp', 'location', 'filtering', 'group', 'group_name', 'standard_deviation', 'kurtosis', 'median_deviation', 'good', 'low_freq_R2', 'high_freq_R2')</span></div><div style=\"margin-left: 20px;\" class=\"container-fields\"><span class=\"field-key\" title=\".fields['electrodes'].fields['columns']\">columns:</span> <span class=\"field-value\">(<hdmf.common.table.VectorData object at 0x16ba8aa30>, <hdmf.common.table.VectorData object at 0x16ba8aa90>, <hdmf.common.table.VectorData object at 0x16ba8aa60>, <hdmf.common.table.VectorData object at 0x16ba8a7c0>, <hdmf.common.table.VectorData object at 0x16ba8a8b0>, <hdmf.common.table.VectorData object at 0x16ba8a130>, <hdmf.common.table.VectorData object at 0x16ba8a700>, <hdmf.common.table.VectorData object at 0x16ba8a2e0>, <hdmf.common.table.VectorData object at 0x16ba8a9d0>, <hdmf.common.table.VectorData object at 0x16ba8a820>, <hdmf.common.table.VectorData object at 0x16ba8a9a0>, <hdmf.common.table.VectorData object at 0x16ba8a5e0>, <hdmf.common.table.VectorData object at 0x16ba8a8e0>, <hdmf.common.table.VectorData object at 0x16ba8a790>)</span></div></details><details><summary style=\"display: list-item; margin-left: 0px;\" class=\"container-fields field-key\" title=\".fields['electrode_groups']\"><b>electrode_groups (8)</b></summary><details><summary style=\"display: list-item; margin-left: 20px;\" class=\"container-fields field-key\" title=\".fields['electrode_groups']['ECG']\"><b>ECG</b></summary><div style=\"margin-left: 40px;\" class=\"container-fields\"><span class=\"field-key\" title=\".fields['electrode_groups']['ECG'].fields['description']\">description:</span> <span class=\"field-value\">electrocardiogram</span></div><div style=\"margin-left: 40px;\" class=\"container-fields\"><span class=\"field-key\" title=\".fields['electrode_groups']['ECG'].fields['location']\">location:</span> <span class=\"field-value\">unknown</span></div><details><summary style=\"display: list-item; margin-left: 40px;\" class=\"container-fields field-key\" title=\".fields['electrode_groups']['ECG'].fields['device']\"><b>device</b></summary></details></details><details><summary style=\"display: list-item; margin-left: 20px;\" class=\"container-fields field-key\" title=\".fields['electrode_groups']['EOG']\"><b>EOG</b></summary><div style=\"margin-left: 40px;\" class=\"container-fields\"><span class=\"field-key\" title=\".fields['electrode_groups']['EOG'].fields['description']\">description:</span> <span class=\"field-value\">electrooculogram</span></div><div style=\"margin-left: 40px;\" class=\"container-fields\"><span class=\"field-key\" title=\".fields['electrode_groups']['EOG'].fields['location']\">location:</span> <span class=\"field-value\">unknown</span></div><details><summary style=\"display: list-item; margin-left: 40px;\" class=\"container-fields field-key\" title=\".fields['electrode_groups']['EOG'].fields['device']\"><b>device</b></summary></details></details><details><summary style=\"display: list-item; margin-left: 20px;\" class=\"container-fields field-key\" title=\".fields['electrode_groups']['GRID']\"><b>GRID</b></summary><div style=\"margin-left: 40px;\" class=\"container-fields\"><span class=\"field-key\" title=\".fields['electrode_groups']['GRID'].fields['description']\">description:</span> <span class=\"field-value\">ECoG grid</span></div><div style=\"margin-left: 40px;\" class=\"container-fields\"><span class=\"field-key\" title=\".fields['electrode_groups']['GRID'].fields['location']\">location:</span> <span class=\"field-value\">unknown</span></div><details><summary style=\"display: list-item; margin-left: 40px;\" class=\"container-fields field-key\" title=\".fields['electrode_groups']['GRID'].fields['device']\"><b>device</b></summary></details></details><details><summary style=\"display: list-item; margin-left: 20px;\" class=\"container-fields field-key\" title=\".fields['electrode_groups']['LAT']\"><b>LAT</b></summary><div style=\"margin-left: 40px;\" class=\"container-fields\"><span class=\"field-key\" title=\".fields['electrode_groups']['LAT'].fields['description']\">description:</span> <span class=\"field-value\">left anterior temporal</span></div><div style=\"margin-left: 40px;\" class=\"container-fields\"><span class=\"field-key\" title=\".fields['electrode_groups']['LAT'].fields['location']\">location:</span> <span class=\"field-value\">unknown</span></div><details><summary style=\"display: list-item; margin-left: 40px;\" class=\"container-fields field-key\" title=\".fields['electrode_groups']['LAT'].fields['device']\"><b>device</b></summary></details></details><details><summary style=\"display: list-item; margin-left: 20px;\" class=\"container-fields field-key\" title=\".fields['electrode_groups']['LID']\"><b>LID</b></summary><div style=\"margin-left: 40px;\" class=\"container-fields\"><span class=\"field-key\" title=\".fields['electrode_groups']['LID'].fields['description']\">description:</span> <span class=\"field-value\">left insular depth</span></div><div style=\"margin-left: 40px;\" class=\"container-fields\"><span class=\"field-key\" title=\".fields['electrode_groups']['LID'].fields['location']\">location:</span> <span class=\"field-value\">unknown</span></div><details><summary style=\"display: list-item; margin-left: 40px;\" class=\"container-fields field-key\" title=\".fields['electrode_groups']['LID'].fields['device']\"><b>device</b></summary></details></details><details><summary style=\"display: list-item; margin-left: 20px;\" class=\"container-fields field-key\" title=\".fields['electrode_groups']['LMT']\"><b>LMT</b></summary><div style=\"margin-left: 40px;\" class=\"container-fields\"><span class=\"field-key\" title=\".fields['electrode_groups']['LMT'].fields['description']\">description:</span> <span class=\"field-value\">left medial temporal</span></div><div style=\"margin-left: 40px;\" class=\"container-fields\"><span class=\"field-key\" title=\".fields['electrode_groups']['LMT'].fields['location']\">location:</span> <span class=\"field-value\">unknown</span></div><details><summary style=\"display: list-item; margin-left: 40px;\" class=\"container-fields field-key\" title=\".fields['electrode_groups']['LMT'].fields['device']\"><b>device</b></summary></details></details><details><summary style=\"display: list-item; margin-left: 20px;\" class=\"container-fields field-key\" title=\".fields['electrode_groups']['LPT']\"><b>LPT</b></summary><div style=\"margin-left: 40px;\" class=\"container-fields\"><span class=\"field-key\" title=\".fields['electrode_groups']['LPT'].fields['description']\">description:</span> <span class=\"field-value\">left posterior temporal</span></div><div style=\"margin-left: 40px;\" class=\"container-fields\"><span class=\"field-key\" title=\".fields['electrode_groups']['LPT'].fields['location']\">location:</span> <span class=\"field-value\">unknown</span></div><details><summary style=\"display: list-item; margin-left: 40px;\" class=\"container-fields field-key\" title=\".fields['electrode_groups']['LPT'].fields['device']\"><b>device</b></summary></details></details><details><summary style=\"display: list-item; margin-left: 20px;\" class=\"container-fields field-key\" title=\".fields['electrode_groups']['LTO']\"><b>LTO</b></summary><div style=\"margin-left: 40px;\" class=\"container-fields\"><span class=\"field-key\" title=\".fields['electrode_groups']['LTO'].fields['description']\">description:</span> <span class=\"field-value\">left temporal occipital</span></div><div style=\"margin-left: 40px;\" class=\"container-fields\"><span class=\"field-key\" title=\".fields['electrode_groups']['LTO'].fields['location']\">location:</span> <span class=\"field-value\">unknown</span></div><details><summary style=\"display: list-item; margin-left: 40px;\" class=\"container-fields field-key\" title=\".fields['electrode_groups']['LTO'].fields['device']\"><b>device</b></summary></details></details></details><details><summary style=\"display: list-item; margin-left: 0px;\" class=\"container-fields field-key\" title=\".fields['devices']\"><b>devices (8)</b></summary><details><summary style=\"display: list-item; margin-left: 20px;\" class=\"container-fields field-key\" title=\".fields['devices']['ECG']\"><b>ECG</b></summary></details><details><summary style=\"display: list-item; margin-left: 20px;\" class=\"container-fields field-key\" title=\".fields['devices']['EOG']\"><b>EOG</b></summary></details><details><summary style=\"display: list-item; margin-left: 20px;\" class=\"container-fields field-key\" title=\".fields['devices']['GRID']\"><b>GRID</b></summary></details><details><summary style=\"display: list-item; margin-left: 20px;\" class=\"container-fields field-key\" title=\".fields['devices']['LAT']\"><b>LAT</b></summary></details><details><summary style=\"display: list-item; margin-left: 20px;\" class=\"container-fields field-key\" title=\".fields['devices']['LID']\"><b>LID</b></summary></details><details><summary style=\"display: list-item; margin-left: 20px;\" class=\"container-fields field-key\" title=\".fields['devices']['LMT']\"><b>LMT</b></summary></details><details><summary style=\"display: list-item; margin-left: 20px;\" class=\"container-fields field-key\" title=\".fields['devices']['LPT']\"><b>LPT</b></summary></details><details><summary style=\"display: list-item; margin-left: 20px;\" class=\"container-fields field-key\" title=\".fields['devices']['LTO']\"><b>LTO</b></summary></details></details><details><summary style=\"display: list-item; margin-left: 0px;\" class=\"container-fields field-key\" title=\".fields['intervals']\"><b>intervals (2)</b></summary><details><summary style=\"display: list-item; margin-left: 20px;\" class=\"container-fields field-key\" title=\".fields['intervals']['epochs']\"><b>epochs</b></summary><div style=\"margin-left: 40px;\" class=\"container-fields\"><span class=\"field-key\" title=\".fields['intervals']['epochs'].fields['description']\">description:</span> <span class=\"field-value\">experimental epochs</span></div><details><summary style=\"display: list-item; margin-left: 40px;\" class=\"container-fields field-key\" title=\".fields['intervals']['epochs'].fields['id']\"><b>id</b></summary></details><div style=\"margin-left: 40px;\" class=\"container-fields\"><span class=\"field-key\" title=\".fields['intervals']['epochs'].fields['colnames']\">colnames:</span> <span class=\"field-value\">('start_time', 'stop_time', 'labels')</span></div><div style=\"margin-left: 40px;\" class=\"container-fields\"><span class=\"field-key\" title=\".fields['intervals']['epochs'].fields['columns']\">columns:</span> <span class=\"field-value\">(<hdmf.common.table.VectorData object at 0x16ba8ac40>, <hdmf.common.table.VectorData object at 0x16ba8ab80>, <hdmf.common.table.VectorData object at 0x16ba8a400>)</span></div></details><details><summary style=\"display: list-item; margin-left: 20px;\" class=\"container-fields field-key\" title=\".fields['intervals']['reaches']\"><b>reaches</b></summary><div style=\"margin-left: 40px;\" class=\"container-fields\"><span class=\"field-key\" title=\".fields['intervals']['reaches'].fields['description']\">description:</span> <span class=\"field-value\">Features of each reach</span></div><details><summary style=\"display: list-item; margin-left: 40px;\" class=\"container-fields field-key\" title=\".fields['intervals']['reaches'].fields['id']\"><b>id</b></summary></details><div style=\"margin-left: 40px;\" class=\"container-fields\"><span class=\"field-key\" title=\".fields['intervals']['reaches'].fields['colnames']\">colnames:</span> <span class=\"field-value\">('start_time', 'stop_time', 'Reach_magnitude_px', 'Reach_angle_degrees', 'Onset_speed_px_per_sec', 'Speech_ratio', 'Bimanual_ratio', 'Bimanual_overlap', 'Bimanual_class')</span></div><div style=\"margin-left: 40px;\" class=\"container-fields\"><span class=\"field-key\" title=\".fields['intervals']['reaches'].fields['columns']\">columns:</span> <span class=\"field-value\">(<hdmf.common.table.VectorData object at 0x16ba8a460>, <hdmf.common.table.VectorData object at 0x165643eb0>, <hdmf.common.table.VectorData object at 0x16ba99dc0>, <hdmf.common.table.VectorData object at 0x16ba996d0>, <hdmf.common.table.VectorData object at 0x16ba998e0>, <hdmf.common.table.VectorData object at 0x16ba99e20>, <hdmf.common.table.VectorData object at 0x16ba99970>, <hdmf.common.table.VectorData object at 0x16ba99a30>, <hdmf.common.table.VectorData object at 0x16ba99d60>)</span></div></details></details><details><summary style=\"display: list-item; margin-left: 0px;\" class=\"container-fields field-key\" title=\".fields['subject']\"><b>subject</b></summary><div style=\"margin-left: 20px;\" class=\"container-fields\"><span class=\"field-key\" title=\".fields['subject'].fields['species']\">species:</span> <span class=\"field-value\">Homo sapiens</span></div><div style=\"margin-left: 20px;\" class=\"container-fields\"><span class=\"field-key\" title=\".fields['subject'].fields['subject_id']\">subject_id:</span> <span class=\"field-value\">01</span></div></details><details><summary style=\"display: list-item; margin-left: 0px;\" class=\"container-fields field-key\" title=\".fields['epochs']\"><b>epochs</b></summary><div style=\"margin-left: 20px;\" class=\"container-fields\"><span class=\"field-key\" title=\".fields['epochs'].fields['description']\">description:</span> <span class=\"field-value\">experimental epochs</span></div><details><summary style=\"display: list-item; margin-left: 20px;\" class=\"container-fields field-key\" title=\".fields['epochs'].fields['id']\"><b>id</b></summary></details><div style=\"margin-left: 20px;\" class=\"container-fields\"><span class=\"field-key\" title=\".fields['epochs'].fields['colnames']\">colnames:</span> <span class=\"field-value\">('start_time', 'stop_time', 'labels')</span></div><div style=\"margin-left: 20px;\" class=\"container-fields\"><span class=\"field-key\" title=\".fields['epochs'].fields['columns']\">columns:</span> <span class=\"field-value\">(<hdmf.common.table.VectorData object at 0x16ba8ac40>, <hdmf.common.table.VectorData object at 0x16ba8ab80>, <hdmf.common.table.VectorData object at 0x16ba8a400>)</span></div></details><div style=\"margin-left: 0px;\" class=\"container-fields\"><span class=\"field-key\" title=\".fields['session_id']\">session_id:</span> <span class=\"field-value\">3</span></div></div>"
      ],
      "text/plain": [
       "root pynwb.file.NWBFile at 0x6103549648\n",
       "Fields:\n",
       "  acquisition: {\n",
       "    ECGL <class 'pynwb.base.TimeSeries'>,\n",
       "    ECGR <class 'pynwb.base.TimeSeries'>,\n",
       "    EOGL <class 'pynwb.base.TimeSeries'>,\n",
       "    EOGR <class 'pynwb.base.TimeSeries'>,\n",
       "    ElectricalSeries <class 'pynwb.ecephys.ElectricalSeries'>\n",
       "  }\n",
       "  devices: {\n",
       "    ECG <class 'pynwb.device.Device'>,\n",
       "    EOG <class 'pynwb.device.Device'>,\n",
       "    GRID <class 'pynwb.device.Device'>,\n",
       "    LAT <class 'pynwb.device.Device'>,\n",
       "    LID <class 'pynwb.device.Device'>,\n",
       "    LMT <class 'pynwb.device.Device'>,\n",
       "    LPT <class 'pynwb.device.Device'>,\n",
       "    LTO <class 'pynwb.device.Device'>\n",
       "  }\n",
       "  electrode_groups: {\n",
       "    ECG <class 'pynwb.ecephys.ElectrodeGroup'>,\n",
       "    EOG <class 'pynwb.ecephys.ElectrodeGroup'>,\n",
       "    GRID <class 'pynwb.ecephys.ElectrodeGroup'>,\n",
       "    LAT <class 'pynwb.ecephys.ElectrodeGroup'>,\n",
       "    LID <class 'pynwb.ecephys.ElectrodeGroup'>,\n",
       "    LMT <class 'pynwb.ecephys.ElectrodeGroup'>,\n",
       "    LPT <class 'pynwb.ecephys.ElectrodeGroup'>,\n",
       "    LTO <class 'pynwb.ecephys.ElectrodeGroup'>\n",
       "  }\n",
       "  electrodes: electrodes <class 'hdmf.common.table.DynamicTable'>\n",
       "  epochs: epochs <class 'pynwb.epoch.TimeIntervals'>\n",
       "  file_create_date: [datetime.datetime(2021, 6, 9, 5, 44, 48, 194751, tzinfo=tzoffset(None, -14400))]\n",
       "  identifier: 4c571b6c-1028-476f-b0e1-e34aa27b3206\n",
       "  intervals: {\n",
       "    epochs <class 'pynwb.epoch.TimeIntervals'>,\n",
       "    reaches <class 'pynwb.epoch.TimeIntervals'>\n",
       "  }\n",
       "  processing: {\n",
       "    behavior <class 'pynwb.base.ProcessingModule'>\n",
       "  }\n",
       "  session_description: no description\n",
       "  session_id: 3\n",
       "  session_start_time: 2000-01-02 19:00:00-05:00\n",
       "  subject: subject pynwb.file.Subject at 0x6101244944\n",
       "Fields:\n",
       "  species: Homo sapiens\n",
       "  subject_id: 01\n",
       "\n",
       "  timestamps_reference_time: 2000-01-02 19:00:00-05:00"
      ]
     },
     "execution_count": 41,
     "metadata": {},
     "output_type": "execute_result"
    }
   ],
   "source": [
    "sbj_1_session_3"
   ]
  },
  {
   "cell_type": "code",
   "execution_count": 42,
   "metadata": {},
   "outputs": [
    {
     "data": {
      "text/plain": [
       "(43200000, 94)"
      ]
     },
     "execution_count": 42,
     "metadata": {},
     "output_type": "execute_result"
    }
   ],
   "source": [
    "sbj_1_session_3.acquisition['ElectricalSeries'].data.shape"
   ]
  },
  {
   "cell_type": "code",
   "execution_count": 97,
   "metadata": {},
   "outputs": [
    {
     "data": {
      "text/plain": [
       "array([ 1791.954,  3520.224,  3584.342, 26884.644, 27984.896, 28768.352,\n",
       "       28853.918, 29639.048, 31409.66 , 31434.982, 31503.748, 31744.518,\n",
       "       31909.118, 31991.716, 32002.75 , 32171.526, 32199.194, 32216.226,\n",
       "       32436.374, 32542.164, 32611.93 , 32649.584, 32664.284, 33508.862,\n",
       "       33610.25 , 34206.394, 34216.66 , 34224.66 , 35007.076, 36125.148,\n",
       "       36799.962, 39458.838, 39498.738, 39654.534, 40430.186, 43371.138,\n",
       "       43547.124, 43783.53 , 43807.664, 43871.03 , 43937.816, 43950.682,\n",
       "       44245.19 , 44434.91 , 44485.61 , 44585.86 , 44688.548, 44804.334,\n",
       "       44918.832, 44954.198, 45231.358, 45406.944, 45702.048, 45713.682,\n",
       "       45860.568, 47592.112, 47673.866, 47729.934, 49077.328, 49101.294,\n",
       "       54369.198, 55389.406, 55503.798, 55644.75 , 55753.64 , 55803.124,\n",
       "       55890.724, 56005.546, 56010.778, 56031.498, 56080.164, 56169.794,\n",
       "       56179.528, 56303.714, 56313.282, 56592.038, 56655.258, 57061.612,\n",
       "       57135.332, 57309.386, 57473.636, 57721.774, 63427.796, 63452.564,\n",
       "       63479.026, 63660.88 , 63674.18 , 63718.192, 63756.958, 63984.832,\n",
       "       64080.24 , 64091.24 , 64153.406, 64316.544, 64581.118, 64621.218,\n",
       "       64643.95 , 64757.304, 64876.236, 64925.888, 64967.454, 65050.85 ,\n",
       "       65119.916, 65165.094, 65234.528, 65425.878, 65776.904, 65786.172,\n",
       "       66005.18 , 66293.16 , 66316.728, 67060.412, 67419.82 , 67565.868,\n",
       "       67664.122, 67883.438, 68941.51 , 69582.206, 69655.574, 69661.206,\n",
       "       69664.674, 69710.996, 69728.928, 69738.396, 69820.448, 69838.514,\n",
       "       69925.448, 70034.034, 70071.998, 70329.872, 70351.538, 70362.438,\n",
       "       70483.708, 70529.542, 70536.576, 70544.414, 70820.652, 70913.14 ,\n",
       "       71429.808, 71477.674, 71505.66 , 71527.66 , 71641.146, 71716.214,\n",
       "       71743.132, 71827.766, 71837.966, 72213.238, 72754.244, 73413.96 ,\n",
       "       74620.002, 74623.202, 74841.422, 75646.604, 75732.558, 75735.024])"
      ]
     },
     "execution_count": 97,
     "metadata": {},
     "output_type": "execute_result"
    }
   ],
   "source": [
    "sbj_1_session_3.processing['behavior'].data_interfaces['ReachEvents'].timestamps[:]"
   ]
  },
  {
   "cell_type": "code",
   "execution_count": 43,
   "metadata": {},
   "outputs": [
    {
     "data": {
      "text/plain": [
       "pynwb.file.NWBFile"
      ]
     },
     "execution_count": 43,
     "metadata": {},
     "output_type": "execute_result"
    }
   ],
   "source": [
    "type(sbj_1_session_3)"
   ]
  },
  {
   "cell_type": "code",
   "execution_count": 44,
   "metadata": {},
   "outputs": [
    {
     "data": {
      "text/html": [
       "<div>\n",
       "<style scoped>\n",
       "    .dataframe tbody tr th:only-of-type {\n",
       "        vertical-align: middle;\n",
       "    }\n",
       "\n",
       "    .dataframe tbody tr th {\n",
       "        vertical-align: top;\n",
       "    }\n",
       "\n",
       "    .dataframe thead th {\n",
       "        text-align: right;\n",
       "    }\n",
       "</style>\n",
       "<table border=\"1\" class=\"dataframe\">\n",
       "  <thead>\n",
       "    <tr style=\"text-align: right;\">\n",
       "      <th></th>\n",
       "      <th>x</th>\n",
       "      <th>y</th>\n",
       "      <th>z</th>\n",
       "      <th>imp</th>\n",
       "      <th>location</th>\n",
       "      <th>filtering</th>\n",
       "      <th>group</th>\n",
       "      <th>group_name</th>\n",
       "      <th>standard_deviation</th>\n",
       "      <th>kurtosis</th>\n",
       "      <th>median_deviation</th>\n",
       "      <th>good</th>\n",
       "      <th>low_freq_R2</th>\n",
       "      <th>high_freq_R2</th>\n",
       "    </tr>\n",
       "    <tr>\n",
       "      <th>id</th>\n",
       "      <th></th>\n",
       "      <th></th>\n",
       "      <th></th>\n",
       "      <th></th>\n",
       "      <th></th>\n",
       "      <th></th>\n",
       "      <th></th>\n",
       "      <th></th>\n",
       "      <th></th>\n",
       "      <th></th>\n",
       "      <th></th>\n",
       "      <th></th>\n",
       "      <th></th>\n",
       "      <th></th>\n",
       "    </tr>\n",
       "  </thead>\n",
       "  <tbody>\n",
       "    <tr>\n",
       "      <th>0</th>\n",
       "      <td>-45.648495</td>\n",
       "      <td>38.560372</td>\n",
       "      <td>36.187962</td>\n",
       "      <td>NaN</td>\n",
       "      <td>unknown</td>\n",
       "      <td>250 Hz lowpass</td>\n",
       "      <td>GRID pynwb.ecephys.ElectrodeGroup at 0x6101565...</td>\n",
       "      <td>GRID</td>\n",
       "      <td>35.398535</td>\n",
       "      <td>6.154781</td>\n",
       "      <td>28.978650</td>\n",
       "      <td>False</td>\n",
       "      <td>0.013106</td>\n",
       "      <td>-0.001107</td>\n",
       "    </tr>\n",
       "    <tr>\n",
       "      <th>1</th>\n",
       "      <td>-47.347152</td>\n",
       "      <td>31.182861</td>\n",
       "      <td>41.176799</td>\n",
       "      <td>NaN</td>\n",
       "      <td>unknown</td>\n",
       "      <td>250 Hz lowpass</td>\n",
       "      <td>GRID pynwb.ecephys.ElectrodeGroup at 0x6101565...</td>\n",
       "      <td>GRID</td>\n",
       "      <td>55.518727</td>\n",
       "      <td>1.309332</td>\n",
       "      <td>48.247142</td>\n",
       "      <td>True</td>\n",
       "      <td>-0.004729</td>\n",
       "      <td>-0.019041</td>\n",
       "    </tr>\n",
       "    <tr>\n",
       "      <th>2</th>\n",
       "      <td>-50.291409</td>\n",
       "      <td>22.157208</td>\n",
       "      <td>45.191885</td>\n",
       "      <td>NaN</td>\n",
       "      <td>unknown</td>\n",
       "      <td>250 Hz lowpass</td>\n",
       "      <td>GRID pynwb.ecephys.ElectrodeGroup at 0x6101565...</td>\n",
       "      <td>GRID</td>\n",
       "      <td>33.992008</td>\n",
       "      <td>1.585154</td>\n",
       "      <td>31.077800</td>\n",
       "      <td>True</td>\n",
       "      <td>-0.003226</td>\n",
       "      <td>-0.003235</td>\n",
       "    </tr>\n",
       "    <tr>\n",
       "      <th>3</th>\n",
       "      <td>-51.358961</td>\n",
       "      <td>11.787268</td>\n",
       "      <td>48.726509</td>\n",
       "      <td>NaN</td>\n",
       "      <td>unknown</td>\n",
       "      <td>250 Hz lowpass</td>\n",
       "      <td>GRID pynwb.ecephys.ElectrodeGroup at 0x6101565...</td>\n",
       "      <td>GRID</td>\n",
       "      <td>33.701261</td>\n",
       "      <td>2.652564</td>\n",
       "      <td>28.651509</td>\n",
       "      <td>True</td>\n",
       "      <td>0.036002</td>\n",
       "      <td>-0.013343</td>\n",
       "    </tr>\n",
       "    <tr>\n",
       "      <th>4</th>\n",
       "      <td>-51.219818</td>\n",
       "      <td>1.713889</td>\n",
       "      <td>53.000981</td>\n",
       "      <td>NaN</td>\n",
       "      <td>unknown</td>\n",
       "      <td>250 Hz lowpass</td>\n",
       "      <td>GRID pynwb.ecephys.ElectrodeGroup at 0x6101565...</td>\n",
       "      <td>GRID</td>\n",
       "      <td>59.648470</td>\n",
       "      <td>2.626867</td>\n",
       "      <td>51.301159</td>\n",
       "      <td>True</td>\n",
       "      <td>0.096380</td>\n",
       "      <td>-0.014212</td>\n",
       "    </tr>\n",
       "    <tr>\n",
       "      <th>...</th>\n",
       "      <td>...</td>\n",
       "      <td>...</td>\n",
       "      <td>...</td>\n",
       "      <td>...</td>\n",
       "      <td>...</td>\n",
       "      <td>...</td>\n",
       "      <td>...</td>\n",
       "      <td>...</td>\n",
       "      <td>...</td>\n",
       "      <td>...</td>\n",
       "      <td>...</td>\n",
       "      <td>...</td>\n",
       "      <td>...</td>\n",
       "      <td>...</td>\n",
       "    </tr>\n",
       "    <tr>\n",
       "      <th>89</th>\n",
       "      <td>-34.106273</td>\n",
       "      <td>-88.149114</td>\n",
       "      <td>-19.819989</td>\n",
       "      <td>NaN</td>\n",
       "      <td>unknown</td>\n",
       "      <td>250 Hz lowpass</td>\n",
       "      <td>LTO pynwb.ecephys.ElectrodeGroup at 0x61011840...</td>\n",
       "      <td>LTO</td>\n",
       "      <td>58.315750</td>\n",
       "      <td>2.708134</td>\n",
       "      <td>42.559665</td>\n",
       "      <td>True</td>\n",
       "      <td>-0.009470</td>\n",
       "      <td>-0.007675</td>\n",
       "    </tr>\n",
       "    <tr>\n",
       "      <th>90</th>\n",
       "      <td>-44.753871</td>\n",
       "      <td>-80.476379</td>\n",
       "      <td>-19.968393</td>\n",
       "      <td>NaN</td>\n",
       "      <td>unknown</td>\n",
       "      <td>250 Hz lowpass</td>\n",
       "      <td>LTO pynwb.ecephys.ElectrodeGroup at 0x61011840...</td>\n",
       "      <td>LTO</td>\n",
       "      <td>55.756859</td>\n",
       "      <td>3.443116</td>\n",
       "      <td>40.267286</td>\n",
       "      <td>True</td>\n",
       "      <td>-0.008794</td>\n",
       "      <td>-0.011022</td>\n",
       "    </tr>\n",
       "    <tr>\n",
       "      <th>91</th>\n",
       "      <td>-51.026277</td>\n",
       "      <td>-73.221686</td>\n",
       "      <td>-18.328451</td>\n",
       "      <td>NaN</td>\n",
       "      <td>unknown</td>\n",
       "      <td>250 Hz lowpass</td>\n",
       "      <td>LTO pynwb.ecephys.ElectrodeGroup at 0x61011840...</td>\n",
       "      <td>LTO</td>\n",
       "      <td>48.797883</td>\n",
       "      <td>2.870422</td>\n",
       "      <td>35.445855</td>\n",
       "      <td>True</td>\n",
       "      <td>-0.002914</td>\n",
       "      <td>-0.013156</td>\n",
       "    </tr>\n",
       "    <tr>\n",
       "      <th>92</th>\n",
       "      <td>-55.946660</td>\n",
       "      <td>-65.490942</td>\n",
       "      <td>-15.617273</td>\n",
       "      <td>NaN</td>\n",
       "      <td>unknown</td>\n",
       "      <td>250 Hz lowpass</td>\n",
       "      <td>LTO pynwb.ecephys.ElectrodeGroup at 0x61011840...</td>\n",
       "      <td>LTO</td>\n",
       "      <td>53.387982</td>\n",
       "      <td>3.111747</td>\n",
       "      <td>39.170996</td>\n",
       "      <td>True</td>\n",
       "      <td>-0.014049</td>\n",
       "      <td>0.005038</td>\n",
       "    </tr>\n",
       "    <tr>\n",
       "      <th>93</th>\n",
       "      <td>-64.432361</td>\n",
       "      <td>-56.451734</td>\n",
       "      <td>-15.885566</td>\n",
       "      <td>NaN</td>\n",
       "      <td>unknown</td>\n",
       "      <td>250 Hz lowpass</td>\n",
       "      <td>LTO pynwb.ecephys.ElectrodeGroup at 0x61011840...</td>\n",
       "      <td>LTO</td>\n",
       "      <td>44.315540</td>\n",
       "      <td>4.469270</td>\n",
       "      <td>32.020394</td>\n",
       "      <td>True</td>\n",
       "      <td>-0.012604</td>\n",
       "      <td>-0.011215</td>\n",
       "    </tr>\n",
       "  </tbody>\n",
       "</table>\n",
       "<p>94 rows × 14 columns</p>\n",
       "</div>"
      ],
      "text/plain": [
       "            x          y          z  imp location       filtering  \\\n",
       "id                                                                  \n",
       "0  -45.648495  38.560372  36.187962  NaN  unknown  250 Hz lowpass   \n",
       "1  -47.347152  31.182861  41.176799  NaN  unknown  250 Hz lowpass   \n",
       "2  -50.291409  22.157208  45.191885  NaN  unknown  250 Hz lowpass   \n",
       "3  -51.358961  11.787268  48.726509  NaN  unknown  250 Hz lowpass   \n",
       "4  -51.219818   1.713889  53.000981  NaN  unknown  250 Hz lowpass   \n",
       "..        ...        ...        ...  ...      ...             ...   \n",
       "89 -34.106273 -88.149114 -19.819989  NaN  unknown  250 Hz lowpass   \n",
       "90 -44.753871 -80.476379 -19.968393  NaN  unknown  250 Hz lowpass   \n",
       "91 -51.026277 -73.221686 -18.328451  NaN  unknown  250 Hz lowpass   \n",
       "92 -55.946660 -65.490942 -15.617273  NaN  unknown  250 Hz lowpass   \n",
       "93 -64.432361 -56.451734 -15.885566  NaN  unknown  250 Hz lowpass   \n",
       "\n",
       "                                                group group_name  \\\n",
       "id                                                                 \n",
       "0   GRID pynwb.ecephys.ElectrodeGroup at 0x6101565...       GRID   \n",
       "1   GRID pynwb.ecephys.ElectrodeGroup at 0x6101565...       GRID   \n",
       "2   GRID pynwb.ecephys.ElectrodeGroup at 0x6101565...       GRID   \n",
       "3   GRID pynwb.ecephys.ElectrodeGroup at 0x6101565...       GRID   \n",
       "4   GRID pynwb.ecephys.ElectrodeGroup at 0x6101565...       GRID   \n",
       "..                                                ...        ...   \n",
       "89  LTO pynwb.ecephys.ElectrodeGroup at 0x61011840...        LTO   \n",
       "90  LTO pynwb.ecephys.ElectrodeGroup at 0x61011840...        LTO   \n",
       "91  LTO pynwb.ecephys.ElectrodeGroup at 0x61011840...        LTO   \n",
       "92  LTO pynwb.ecephys.ElectrodeGroup at 0x61011840...        LTO   \n",
       "93  LTO pynwb.ecephys.ElectrodeGroup at 0x61011840...        LTO   \n",
       "\n",
       "    standard_deviation  kurtosis  median_deviation   good  low_freq_R2  \\\n",
       "id                                                                       \n",
       "0            35.398535  6.154781         28.978650  False     0.013106   \n",
       "1            55.518727  1.309332         48.247142   True    -0.004729   \n",
       "2            33.992008  1.585154         31.077800   True    -0.003226   \n",
       "3            33.701261  2.652564         28.651509   True     0.036002   \n",
       "4            59.648470  2.626867         51.301159   True     0.096380   \n",
       "..                 ...       ...               ...    ...          ...   \n",
       "89           58.315750  2.708134         42.559665   True    -0.009470   \n",
       "90           55.756859  3.443116         40.267286   True    -0.008794   \n",
       "91           48.797883  2.870422         35.445855   True    -0.002914   \n",
       "92           53.387982  3.111747         39.170996   True    -0.014049   \n",
       "93           44.315540  4.469270         32.020394   True    -0.012604   \n",
       "\n",
       "    high_freq_R2  \n",
       "id                \n",
       "0      -0.001107  \n",
       "1      -0.019041  \n",
       "2      -0.003235  \n",
       "3      -0.013343  \n",
       "4      -0.014212  \n",
       "..           ...  \n",
       "89     -0.007675  \n",
       "90     -0.011022  \n",
       "91     -0.013156  \n",
       "92      0.005038  \n",
       "93     -0.011215  \n",
       "\n",
       "[94 rows x 14 columns]"
      ]
     },
     "execution_count": 44,
     "metadata": {},
     "output_type": "execute_result"
    }
   ],
   "source": [
    "sbj_1_session_3.electrodes.to_dataframe()"
   ]
  },
  {
   "cell_type": "code",
   "execution_count": 45,
   "metadata": {},
   "outputs": [
    {
     "data": {
      "text/plain": [
       "(43200000, 94)"
      ]
     },
     "execution_count": 45,
     "metadata": {},
     "output_type": "execute_result"
    }
   ],
   "source": [
    "\n",
    "sbj_1_session_3.acquisition['ElectricalSeries'].data.shape"
   ]
  },
  {
   "cell_type": "code",
   "execution_count": 46,
   "metadata": {},
   "outputs": [
    {
     "data": {
      "text/plain": [
       "h5py._hl.dataset.Dataset"
      ]
     },
     "execution_count": 46,
     "metadata": {},
     "output_type": "execute_result"
    }
   ],
   "source": [
    "type(sbj_1_session_3.acquisition['EOGL'].data)"
   ]
  },
  {
   "cell_type": "code",
   "execution_count": 47,
   "metadata": {},
   "outputs": [
    {
     "data": {
      "text/html": [
       "<div>\n",
       "<style scoped>\n",
       "    .dataframe tbody tr th:only-of-type {\n",
       "        vertical-align: middle;\n",
       "    }\n",
       "\n",
       "    .dataframe tbody tr th {\n",
       "        vertical-align: top;\n",
       "    }\n",
       "\n",
       "    .dataframe thead th {\n",
       "        text-align: right;\n",
       "    }\n",
       "</style>\n",
       "<table border=\"1\" class=\"dataframe\">\n",
       "  <thead>\n",
       "    <tr style=\"text-align: right;\">\n",
       "      <th></th>\n",
       "      <th>start_time</th>\n",
       "      <th>stop_time</th>\n",
       "      <th>labels</th>\n",
       "    </tr>\n",
       "    <tr>\n",
       "      <th>id</th>\n",
       "      <th></th>\n",
       "      <th></th>\n",
       "      <th></th>\n",
       "    </tr>\n",
       "  </thead>\n",
       "  <tbody>\n",
       "    <tr>\n",
       "      <th>1</th>\n",
       "      <td>86.533333</td>\n",
       "      <td>206.200000</td>\n",
       "      <td>Sleep/rest</td>\n",
       "    </tr>\n",
       "    <tr>\n",
       "      <th>3</th>\n",
       "      <td>206.400000</td>\n",
       "      <td>326.166667</td>\n",
       "      <td>Sleep/rest</td>\n",
       "    </tr>\n",
       "    <tr>\n",
       "      <th>5</th>\n",
       "      <td>326.333333</td>\n",
       "      <td>446.033333</td>\n",
       "      <td>Sleep/rest</td>\n",
       "    </tr>\n",
       "    <tr>\n",
       "      <th>7</th>\n",
       "      <td>446.166667</td>\n",
       "      <td>565.933333</td>\n",
       "      <td>Sleep/rest</td>\n",
       "    </tr>\n",
       "    <tr>\n",
       "      <th>9</th>\n",
       "      <td>566.033333</td>\n",
       "      <td>687.000000</td>\n",
       "      <td>Sleep/rest</td>\n",
       "    </tr>\n",
       "    <tr>\n",
       "      <th>...</th>\n",
       "      <td>...</td>\n",
       "      <td>...</td>\n",
       "      <td>...</td>\n",
       "    </tr>\n",
       "    <tr>\n",
       "      <th>1417</th>\n",
       "      <td>85775.900000</td>\n",
       "      <td>85895.633333</td>\n",
       "      <td>Sleep/rest</td>\n",
       "    </tr>\n",
       "    <tr>\n",
       "      <th>1419</th>\n",
       "      <td>85895.766667</td>\n",
       "      <td>86015.466667</td>\n",
       "      <td>Sleep/rest</td>\n",
       "    </tr>\n",
       "    <tr>\n",
       "      <th>1421</th>\n",
       "      <td>86015.666667</td>\n",
       "      <td>86135.433333</td>\n",
       "      <td>Sleep/rest</td>\n",
       "    </tr>\n",
       "    <tr>\n",
       "      <th>1423</th>\n",
       "      <td>86135.600000</td>\n",
       "      <td>86255.500000</td>\n",
       "      <td>Sleep/rest</td>\n",
       "    </tr>\n",
       "    <tr>\n",
       "      <th>1425</th>\n",
       "      <td>86255.566667</td>\n",
       "      <td>86375.433333</td>\n",
       "      <td>Sleep/rest</td>\n",
       "    </tr>\n",
       "  </tbody>\n",
       "</table>\n",
       "<p>293 rows × 3 columns</p>\n",
       "</div>"
      ],
      "text/plain": [
       "        start_time     stop_time      labels\n",
       "id                                          \n",
       "1        86.533333    206.200000  Sleep/rest\n",
       "3       206.400000    326.166667  Sleep/rest\n",
       "5       326.333333    446.033333  Sleep/rest\n",
       "7       446.166667    565.933333  Sleep/rest\n",
       "9       566.033333    687.000000  Sleep/rest\n",
       "...            ...           ...         ...\n",
       "1417  85775.900000  85895.633333  Sleep/rest\n",
       "1419  85895.766667  86015.466667  Sleep/rest\n",
       "1421  86015.666667  86135.433333  Sleep/rest\n",
       "1423  86135.600000  86255.500000  Sleep/rest\n",
       "1425  86255.566667  86375.433333  Sleep/rest\n",
       "\n",
       "[293 rows x 3 columns]"
      ]
     },
     "execution_count": 47,
     "metadata": {},
     "output_type": "execute_result"
    }
   ],
   "source": [
    "sleep_stamps"
   ]
  },
  {
   "cell_type": "code",
   "execution_count": 48,
   "metadata": {},
   "outputs": [
    {
     "data": {
      "text/plain": [
       "103200.0"
      ]
     },
     "execution_count": 48,
     "metadata": {},
     "output_type": "execute_result"
    }
   ],
   "source": [
    "sleep_stamps['start_time'][3]/86400 * 43200000"
   ]
  },
  {
   "cell_type": "code",
   "execution_count": 49,
   "metadata": {},
   "outputs": [
    {
     "data": {
      "text/plain": [
       "293"
      ]
     },
     "execution_count": 49,
     "metadata": {},
     "output_type": "execute_result"
    }
   ],
   "source": [
    "sleep_stamps.shape[0]"
   ]
  },
  {
   "cell_type": "code",
   "execution_count": 50,
   "metadata": {},
   "outputs": [
    {
     "data": {
      "text/plain": [
       "Int64Index([   1,    3,    5,    7,    9,   11,   13,   15,   17,   19,\n",
       "            ...\n",
       "            1407, 1409, 1411, 1413, 1415, 1417, 1419, 1421, 1423, 1425],\n",
       "           dtype='int64', name='id', length=293)"
      ]
     },
     "execution_count": 50,
     "metadata": {},
     "output_type": "execute_result"
    }
   ],
   "source": [
    "sleep_stamps['start_time'].index"
   ]
  },
  {
   "cell_type": "code",
   "execution_count": 73,
   "metadata": {},
   "outputs": [],
   "source": [
    "def extract_phys_accod_timestamps(phys_data:h5py._hl.dataset.Dataset, behavior_timestamps:pd.DataFrame, trange=list, rate=float):\n",
    "\n",
    "    \"\"\" Return a dictionary that contains EOG/ECG recordings according timestamps\n",
    "\n",
    "    Args:\n",
    "        phys_data: recordings from nwb files\n",
    "        behavior_timestaps: a dataframe containing the timestamps labelled with specific activity\n",
    "        trange: a list denoting the temporal region to look at, measured in hour\n",
    "\n",
    "    \"\"\"\n",
    "\n",
    "    if len(trange) != 2:\n",
    "        raise ValueError(f'trange should contains 2 elements instead of {len(trange)}')\n",
    "    # Identify the start/end indices for each continuous chunk of the given behavioral label\n",
    "    start_limit, end_limit = trange[0]*3600, trange[1]*3600 # convert to seconds\n",
    "    len_timepoints = phys_data.shape[0] # get the number of recording timepoints\n",
    "    phys_behavior = {}\n",
    "\n",
    "    for i in sleep_stamps['start_time'].index:\n",
    "\n",
    "        start_time, end_time = behavior_timestamps['start_time'][i], behavior_timestamps['stop_time'][i]\n",
    "        \n",
    "        start_t = int((start_time/86400) * len_timepoints)\n",
    "        end_t = int((end_time/86400) * len_timepoints) \n",
    "\n",
    "        if (start_time >= start_limit and start_time <= end_limit):\n",
    "            if (end_time <= end_limit and end_time >= start_limit): # if within the range\n",
    "                phys_behavior[str(start_time) + '_' + str(end_time)] = phys_data[start_t:end_t, :]\n",
    "                \n",
    "            if (end_time >= end_limit and end_time >= start_limit): # when end_time falls outside of the region\n",
    "\n",
    "                phys_behavior[str(start_time) + '_' + str(end_limit)] = phys_data[start_t:int((end_limit/86400) * len_timepoints), :]\n",
    "                \n",
    "\n",
    "        elif (start_time <= start_limit and start_time <= end_limit):\n",
    "            if (end_time <= end_limit and end_time >= start_limit):\n",
    "                phys_behavior[str(start_limit) + '_' + str(end_limit)] = phys_data[int((start_limit/86400) * len_timepoints):end_t, :]\n",
    "                \n",
    "            if (end_time>=start_limit and end_time >= end_limit):\n",
    "                phys_behavior[str(start_limit) + '_' + str(end_limit)] = phys_data[int((start_limit/86400) * len_timepoints):int((end_limit/86400) * len_timepoints), :]\n",
    "                 \n",
    "        else:\n",
    "            pass\n",
    "    \n",
    "    return phys_behavior\n"
   ]
  },
  {
   "cell_type": "code",
   "execution_count": 76,
   "metadata": {},
   "outputs": [],
   "source": [
    "sleep_1sthour = extract_phys_accod_timestamps(sbj_1_session_3.acquisition['ElectricalSeries'].data, sleep_stamps, trange=[0, 1])"
   ]
  },
  {
   "cell_type": "code",
   "execution_count": 77,
   "metadata": {},
   "outputs": [
    {
     "data": {
      "text/plain": [
       "18"
      ]
     },
     "execution_count": 77,
     "metadata": {},
     "output_type": "execute_result"
    }
   ],
   "source": [
    "len(sleep_1sthour)"
   ]
  },
  {
   "cell_type": "code",
   "execution_count": 53,
   "metadata": {},
   "outputs": [],
   "source": [
    "a = int(46800/86400 * 43200000)\n",
    "b = int(61200/86400 * 43200000)"
   ]
  },
  {
   "cell_type": "code",
   "execution_count": 65,
   "metadata": {},
   "outputs": [
    {
     "data": {
      "text/plain": [
       "array([[  8.247246 , -12.491954 , -35.600716 , ...,  -2.2165718,\n",
       "         -5.447301 ,   3.1455498],\n",
       "       [ 19.101425 , -11.785071 , -28.821192 , ...,  11.214366 ,\n",
       "          0.423931 ,  -0.423931 ],\n",
       "       [ 25.405327 ,  -9.049688 , -31.512386 , ...,  12.334486 ,\n",
       "          0.2341547,  -2.282775 ],\n",
       "       ...,\n",
       "       [-18.993961 ,  -7.7443094, -20.26622  , ..., -63.48185  ,\n",
       "         25.506142 ,   2.4358974],\n",
       "       [-27.446747 , -18.97296  , -17.356125 , ..., -59.324127 ,\n",
       "         38.336468 , -10.652538 ],\n",
       "       [-31.530788 , -23.499302 , -24.780277 , ..., -51.821953 ,\n",
       "         54.684326 , -30.992592 ]], dtype=float32)"
      ]
     },
     "execution_count": 65,
     "metadata": {},
     "output_type": "execute_result"
    }
   ],
   "source": [
    "sbj_1_session_3.acquisition['ElectricalSeries'].data[a:b, :]"
   ]
  },
  {
   "cell_type": "code",
   "execution_count": 55,
   "metadata": {},
   "outputs": [
    {
     "data": {
      "text/plain": [
       "array([-2.0812898 , -3.239176  , -0.60245   , -1.4832982 , -2.1988645 ,\n",
       "       -1.6928512 , -3.106294  , -0.83714765, -3.5523083 , -8.957111  ,\n",
       "       -1.3257879 , -2.418092  , -9.688462  , -7.673757  , -7.643367  ,\n",
       "       -6.733464  , -4.7467494 , -9.410007  , -4.8335013 ,  1.4372702 ],\n",
       "      dtype=float32)"
      ]
     },
     "execution_count": 55,
     "metadata": {},
     "output_type": "execute_result"
    }
   ],
   "source": [
    "sbj_1_session_3.acquisition['EOGL'].data[0:20]"
   ]
  },
  {
   "cell_type": "code",
   "execution_count": 56,
   "metadata": {},
   "outputs": [],
   "source": [
    "import mne"
   ]
  },
  {
   "cell_type": "code",
   "execution_count": 57,
   "metadata": {},
   "outputs": [
    {
     "name": "stdout",
     "output_type": "stream",
     "text": [
      "Creating RawArray with float64 data, n_channels=94, n_times=1000000\n",
      "    Range : 0 ... 999999 =      0.000 ...  1999.998 secs\n",
      "Ready.\n"
     ]
    }
   ],
   "source": [
    "import pandas as pd\n",
    "import numpy as np\n",
    "from mne.channels import make_dig_montage\n",
    "from mne import create_info\n",
    "from mne.io import RawArray\n",
    "\n",
    "# Assuming sbj_1_session_3.electrodes.to_dataframe() returns a DataFrame with 'x', 'y', 'z' columns\n",
    "df = sbj_1_session_3.electrodes.to_dataframe()\n",
    "\n",
    "# Convert DataFrame to dictionary with electrode names as keys and 'x', 'y', 'z' coordinates as values\n",
    "electrode_dict = {str(name): loc for name, loc in zip(df.index, df[['x', 'y', 'z']].values)}\n",
    "# Create DigMontage\n",
    "montage = make_dig_montage(ch_pos=electrode_dict, coord_frame='mni_tal')\n",
    "\n",
    "# Assuming sbj_1_session_3.acquisition['ElectricalSeries'].data returns a numpy array with shape (43200000, 94)\n",
    "data = sbj_1_session_3.acquisition['ElectricalSeries'].data[:1000000,:]\n",
    "data_transposed = np.transpose(data)\n",
    "\n",
    "# Define the sampling frequency\n",
    "sfreq = 500  # modify this value to your actual sampling frequency\n",
    "\n",
    "# Create the info structure needed by MNE\n",
    "info = create_info(ch_names=list(electrode_dict.keys()), sfreq=sfreq, ch_types='ecog')\n",
    "\n",
    "# Finally, create the Raw object\n",
    "raw = RawArray(data_transposed, info)"
   ]
  },
  {
   "cell_type": "code",
   "execution_count": 87,
   "metadata": {},
   "outputs": [
    {
     "ename": "KeyError",
     "evalue": "'Key \"SUBJECTS_DIR\" not found in the environment or in the the mne-python config file (/Users/apple/.mne/mne-python.json). Try either os.environ[\"SUBJECTS_DIR\"] = VALUE for a temporary solution, or mne.utils.set_config(\"SUBJECTS_DIR\", VALUE, set_env=True) for a permanent one. You can also set the environment variable before running python.'",
     "output_type": "error",
     "traceback": [
      "\u001b[0;31m---------------------------------------------------------------------------\u001b[0m",
      "\u001b[0;31mKeyError\u001b[0m                                  Traceback (most recent call last)",
      "Cell \u001b[0;32mIn[87], line 2\u001b[0m\n\u001b[1;32m      1\u001b[0m \u001b[39mfrom\u001b[39;00m \u001b[39mmne\u001b[39;00m\u001b[39m.\u001b[39;00m\u001b[39mviz\u001b[39;00m \u001b[39mimport\u001b[39;00m plot_alignment, snapshot_brain_montage\n\u001b[0;32m----> 2\u001b[0m fig \u001b[39m=\u001b[39m plot_alignment(\n\u001b[1;32m      3\u001b[0m     raw\u001b[39m.\u001b[39;49minfo,\n\u001b[1;32m      4\u001b[0m     trans\u001b[39m=\u001b[39;49m\u001b[39m\"\u001b[39;49m\u001b[39mfsaverage\u001b[39;49m\u001b[39m\"\u001b[39;49m,\n\u001b[1;32m      5\u001b[0m     subject\u001b[39m=\u001b[39;49m\u001b[39m\"\u001b[39;49m\u001b[39mfsaverage\u001b[39;49m\u001b[39m\"\u001b[39;49m,\n\u001b[1;32m      6\u001b[0m     subjects_dir\u001b[39m=\u001b[39;49m\u001b[39mNone\u001b[39;49;00m,\n\u001b[1;32m      7\u001b[0m     surfaces\u001b[39m=\u001b[39;49m[\u001b[39m\"\u001b[39;49m\u001b[39mpial\u001b[39;49m\u001b[39m\"\u001b[39;49m],\n\u001b[1;32m      8\u001b[0m     coord_frame\u001b[39m=\u001b[39;49m\u001b[39m\"\u001b[39;49m\u001b[39mhead\u001b[39;49m\u001b[39m\"\u001b[39;49m,\n\u001b[1;32m      9\u001b[0m     sensor_colors\u001b[39m=\u001b[39;49m\u001b[39mNone\u001b[39;49;00m,\n\u001b[1;32m     10\u001b[0m )\n\u001b[1;32m     11\u001b[0m mne\u001b[39m.\u001b[39mviz\u001b[39m.\u001b[39mset_3d_view(fig, azimuth\u001b[39m=\u001b[39m\u001b[39m0\u001b[39m, elevation\u001b[39m=\u001b[39m\u001b[39m70\u001b[39m)\n\u001b[1;32m     13\u001b[0m xy, im \u001b[39m=\u001b[39m snapshot_brain_montage(fig, raw\u001b[39m.\u001b[39minfo)\n",
      "File \u001b[0;32m<decorator-gen-130>:12\u001b[0m, in \u001b[0;36mplot_alignment\u001b[0;34m(info, trans, subject, subjects_dir, surfaces, coord_frame, meg, eeg, fwd, dig, ecog, src, mri_fiducials, bem, seeg, fnirs, show_axes, dbs, fig, interaction, sensor_colors, verbose)\u001b[0m\n",
      "File \u001b[0;32m/Applications/anaconda3/envs/NMA/lib/python3.9/site-packages/mne/viz/_3d.py:822\u001b[0m, in \u001b[0;36mplot_alignment\u001b[0;34m(info, trans, subject, subjects_dir, surfaces, coord_frame, meg, eeg, fwd, dig, ecog, src, mri_fiducials, bem, seeg, fnirs, show_axes, dbs, fig, interaction, sensor_colors, verbose)\u001b[0m\n\u001b[1;32m    820\u001b[0m \u001b[39melse\u001b[39;00m:\n\u001b[1;32m    821\u001b[0m     brain \u001b[39m=\u001b[39m \u001b[39m\"\u001b[39m\u001b[39mpial\u001b[39m\u001b[39m\"\u001b[39m \u001b[39mif\u001b[39;00m brain \u001b[39m==\u001b[39m \u001b[39m\"\u001b[39m\u001b[39mbrain\u001b[39m\u001b[39m\"\u001b[39m \u001b[39melse\u001b[39;00m brain\n\u001b[0;32m--> 822\u001b[0m     subjects_dir \u001b[39m=\u001b[39m get_subjects_dir(subjects_dir, raise_error\u001b[39m=\u001b[39;49m\u001b[39mTrue\u001b[39;49;00m)\n\u001b[1;32m    823\u001b[0m     \u001b[39mfor\u001b[39;00m hemi \u001b[39min\u001b[39;00m [\u001b[39m\"\u001b[39m\u001b[39mlh\u001b[39m\u001b[39m\"\u001b[39m, \u001b[39m\"\u001b[39m\u001b[39mrh\u001b[39m\u001b[39m\"\u001b[39m]:\n\u001b[1;32m    824\u001b[0m         brain_fname \u001b[39m=\u001b[39m subjects_dir \u001b[39m/\u001b[39m subject \u001b[39m/\u001b[39m \u001b[39m\"\u001b[39m\u001b[39msurf\u001b[39m\u001b[39m\"\u001b[39m \u001b[39m/\u001b[39m \u001b[39mf\u001b[39m\u001b[39m\"\u001b[39m\u001b[39m{\u001b[39;00mhemi\u001b[39m}\u001b[39;00m\u001b[39m.\u001b[39m\u001b[39m{\u001b[39;00mbrain\u001b[39m}\u001b[39;00m\u001b[39m\"\u001b[39m\n",
      "File \u001b[0;32m/Applications/anaconda3/envs/NMA/lib/python3.9/site-packages/mne/utils/config.py:462\u001b[0m, in \u001b[0;36mget_subjects_dir\u001b[0;34m(subjects_dir, raise_error)\u001b[0m\n\u001b[1;32m    445\u001b[0m \u001b[39m\u001b[39m\u001b[39m\"\"\"Safely use subjects_dir input to return SUBJECTS_DIR.\u001b[39;00m\n\u001b[1;32m    446\u001b[0m \n\u001b[1;32m    447\u001b[0m \u001b[39mParameters\u001b[39;00m\n\u001b[0;32m   (...)\u001b[0m\n\u001b[1;32m    459\u001b[0m \u001b[39m    The SUBJECTS_DIR value.\u001b[39;00m\n\u001b[1;32m    460\u001b[0m \u001b[39m\"\"\"\u001b[39;00m\n\u001b[1;32m    461\u001b[0m \u001b[39mif\u001b[39;00m subjects_dir \u001b[39mis\u001b[39;00m \u001b[39mNone\u001b[39;00m:\n\u001b[0;32m--> 462\u001b[0m     subjects_dir \u001b[39m=\u001b[39m get_config(\u001b[39m\"\u001b[39;49m\u001b[39mSUBJECTS_DIR\u001b[39;49m\u001b[39m\"\u001b[39;49m, raise_error\u001b[39m=\u001b[39;49mraise_error)\n\u001b[1;32m    463\u001b[0m \u001b[39mif\u001b[39;00m subjects_dir \u001b[39mis\u001b[39;00m \u001b[39mnot\u001b[39;00m \u001b[39mNone\u001b[39;00m:\n\u001b[1;32m    464\u001b[0m     subjects_dir \u001b[39m=\u001b[39m _check_fname(\n\u001b[1;32m    465\u001b[0m         fname\u001b[39m=\u001b[39msubjects_dir,\n\u001b[1;32m    466\u001b[0m         overwrite\u001b[39m=\u001b[39m\u001b[39m\"\u001b[39m\u001b[39mread\u001b[39m\u001b[39m\"\u001b[39m,\n\u001b[0;32m   (...)\u001b[0m\n\u001b[1;32m    469\u001b[0m         name\u001b[39m=\u001b[39m\u001b[39m\"\u001b[39m\u001b[39msubjects_dir\u001b[39m\u001b[39m\"\u001b[39m,\n\u001b[1;32m    470\u001b[0m     )\n",
      "File \u001b[0;32m/Applications/anaconda3/envs/NMA/lib/python3.9/site-packages/mne/utils/config.py:324\u001b[0m, in \u001b[0;36mget_config\u001b[0;34m(key, default, raise_error, home_dir, use_env)\u001b[0m\n\u001b[1;32m    315\u001b[0m     extra_env \u001b[39m=\u001b[39m (\n\u001b[1;32m    316\u001b[0m         \u001b[39m\"\u001b[39m\u001b[39m You can also set the environment variable before \u001b[39m\u001b[39m\"\u001b[39m \u001b[39m\"\u001b[39m\u001b[39mrunning python.\u001b[39m\u001b[39m\"\u001b[39m\n\u001b[1;32m    317\u001b[0m         \u001b[39mif\u001b[39;00m use_env\n\u001b[1;32m    318\u001b[0m         \u001b[39melse\u001b[39;00m \u001b[39m\"\u001b[39m\u001b[39m\"\u001b[39m\n\u001b[1;32m    319\u001b[0m     )\n\u001b[1;32m    320\u001b[0m     meth_file \u001b[39m=\u001b[39m (\n\u001b[1;32m    321\u001b[0m         \u001b[39m'\u001b[39m\u001b[39mmne.utils.set_config(\u001b[39m\u001b[39m\"\u001b[39m\u001b[39m%s\u001b[39;00m\u001b[39m\"\u001b[39m\u001b[39m, VALUE, set_env=True) \u001b[39m\u001b[39m'\u001b[39m\n\u001b[1;32m    322\u001b[0m         \u001b[39m\"\u001b[39m\u001b[39mfor a permanent one\u001b[39m\u001b[39m\"\u001b[39m \u001b[39m%\u001b[39m key\n\u001b[1;32m    323\u001b[0m     )\n\u001b[0;32m--> 324\u001b[0m     \u001b[39mraise\u001b[39;00m \u001b[39mKeyError\u001b[39;00m(\n\u001b[1;32m    325\u001b[0m         \u001b[39m'\u001b[39m\u001b[39mKey \u001b[39m\u001b[39m\"\u001b[39m\u001b[39m%s\u001b[39;00m\u001b[39m\"\u001b[39m\u001b[39m not found in \u001b[39m\u001b[39m%s\u001b[39;00m\u001b[39m'\u001b[39m\n\u001b[1;32m    326\u001b[0m         \u001b[39m\"\u001b[39m\u001b[39mthe mne-python config file (\u001b[39m\u001b[39m%s\u001b[39;00m\u001b[39m). \u001b[39m\u001b[39m\"\u001b[39m\n\u001b[1;32m    327\u001b[0m         \u001b[39m\"\u001b[39m\u001b[39mTry \u001b[39m\u001b[39m%s\u001b[39;00m\u001b[39m%s\u001b[39;00m\u001b[39m.\u001b[39m\u001b[39m%s\u001b[39;00m\u001b[39m\"\u001b[39m \u001b[39m%\u001b[39m (key, loc_env, config_path, meth_env, meth_file, extra_env)\n\u001b[1;32m    328\u001b[0m     )\n\u001b[1;32m    329\u001b[0m \u001b[39melse\u001b[39;00m:\n\u001b[1;32m    330\u001b[0m     \u001b[39mreturn\u001b[39;00m config\u001b[39m.\u001b[39mget(key, default)\n",
      "\u001b[0;31mKeyError\u001b[0m: 'Key \"SUBJECTS_DIR\" not found in the environment or in the the mne-python config file (/Users/apple/.mne/mne-python.json). Try either os.environ[\"SUBJECTS_DIR\"] = VALUE for a temporary solution, or mne.utils.set_config(\"SUBJECTS_DIR\", VALUE, set_env=True) for a permanent one. You can also set the environment variable before running python.'"
     ]
    }
   ],
   "source": [
    "from mne.viz import plot_alignment, snapshot_brain_montage\n",
    "fig = plot_alignment(\n",
    "    raw.info,\n",
    "    trans=\"fsaverage\",\n",
    "    subject=\"fsaverage\",\n",
    "    subjects_dir=None,\n",
    "    surfaces=[\"pial\"],\n",
    "    coord_frame=\"head\",\n",
    "    sensor_colors=None,\n",
    ")\n",
    "mne.viz.set_3d_view(fig, azimuth=0, elevation=70)\n",
    "\n",
    "xy, im = snapshot_brain_montage(fig, raw.info)"
   ]
  },
  {
   "cell_type": "code",
   "execution_count": 59,
   "metadata": {},
   "outputs": [
    {
     "data": {
      "text/html": [
       "<div>\n",
       "<style scoped>\n",
       "    .dataframe tbody tr th:only-of-type {\n",
       "        vertical-align: middle;\n",
       "    }\n",
       "\n",
       "    .dataframe tbody tr th {\n",
       "        vertical-align: top;\n",
       "    }\n",
       "\n",
       "    .dataframe thead th {\n",
       "        text-align: right;\n",
       "    }\n",
       "</style>\n",
       "<table border=\"1\" class=\"dataframe\">\n",
       "  <thead>\n",
       "    <tr style=\"text-align: right;\">\n",
       "      <th></th>\n",
       "      <th>start_time</th>\n",
       "      <th>stop_time</th>\n",
       "      <th>labels</th>\n",
       "    </tr>\n",
       "    <tr>\n",
       "      <th>id</th>\n",
       "      <th></th>\n",
       "      <th></th>\n",
       "      <th></th>\n",
       "    </tr>\n",
       "  </thead>\n",
       "  <tbody>\n",
       "    <tr>\n",
       "      <th>1</th>\n",
       "      <td>86.533333</td>\n",
       "      <td>206.200000</td>\n",
       "      <td>Sleep/rest</td>\n",
       "    </tr>\n",
       "    <tr>\n",
       "      <th>3</th>\n",
       "      <td>206.400000</td>\n",
       "      <td>326.166667</td>\n",
       "      <td>Sleep/rest</td>\n",
       "    </tr>\n",
       "    <tr>\n",
       "      <th>5</th>\n",
       "      <td>326.333333</td>\n",
       "      <td>446.033333</td>\n",
       "      <td>Sleep/rest</td>\n",
       "    </tr>\n",
       "    <tr>\n",
       "      <th>7</th>\n",
       "      <td>446.166667</td>\n",
       "      <td>565.933333</td>\n",
       "      <td>Sleep/rest</td>\n",
       "    </tr>\n",
       "    <tr>\n",
       "      <th>9</th>\n",
       "      <td>566.033333</td>\n",
       "      <td>687.000000</td>\n",
       "      <td>Sleep/rest</td>\n",
       "    </tr>\n",
       "    <tr>\n",
       "      <th>...</th>\n",
       "      <td>...</td>\n",
       "      <td>...</td>\n",
       "      <td>...</td>\n",
       "    </tr>\n",
       "    <tr>\n",
       "      <th>1417</th>\n",
       "      <td>85775.900000</td>\n",
       "      <td>85895.633333</td>\n",
       "      <td>Sleep/rest</td>\n",
       "    </tr>\n",
       "    <tr>\n",
       "      <th>1419</th>\n",
       "      <td>85895.766667</td>\n",
       "      <td>86015.466667</td>\n",
       "      <td>Sleep/rest</td>\n",
       "    </tr>\n",
       "    <tr>\n",
       "      <th>1421</th>\n",
       "      <td>86015.666667</td>\n",
       "      <td>86135.433333</td>\n",
       "      <td>Sleep/rest</td>\n",
       "    </tr>\n",
       "    <tr>\n",
       "      <th>1423</th>\n",
       "      <td>86135.600000</td>\n",
       "      <td>86255.500000</td>\n",
       "      <td>Sleep/rest</td>\n",
       "    </tr>\n",
       "    <tr>\n",
       "      <th>1425</th>\n",
       "      <td>86255.566667</td>\n",
       "      <td>86375.433333</td>\n",
       "      <td>Sleep/rest</td>\n",
       "    </tr>\n",
       "  </tbody>\n",
       "</table>\n",
       "<p>293 rows × 3 columns</p>\n",
       "</div>"
      ],
      "text/plain": [
       "        start_time     stop_time      labels\n",
       "id                                          \n",
       "1        86.533333    206.200000  Sleep/rest\n",
       "3       206.400000    326.166667  Sleep/rest\n",
       "5       326.333333    446.033333  Sleep/rest\n",
       "7       446.166667    565.933333  Sleep/rest\n",
       "9       566.033333    687.000000  Sleep/rest\n",
       "...            ...           ...         ...\n",
       "1417  85775.900000  85895.633333  Sleep/rest\n",
       "1419  85895.766667  86015.466667  Sleep/rest\n",
       "1421  86015.666667  86135.433333  Sleep/rest\n",
       "1423  86135.600000  86255.500000  Sleep/rest\n",
       "1425  86255.566667  86375.433333  Sleep/rest\n",
       "\n",
       "[293 rows x 3 columns]"
      ]
     },
     "execution_count": 59,
     "metadata": {},
     "output_type": "execute_result"
    }
   ],
   "source": [
    "sleep_stamps"
   ]
  },
  {
   "cell_type": "code",
   "execution_count": 62,
   "metadata": {},
   "outputs": [
    {
     "name": "stderr",
     "output_type": "stream",
     "text": [
      "/var/folders/lw/hwgr0trd2fvc2gxpptkrl8m00000gn/T/ipykernel_45580/1364935433.py:9: RuntimeWarning: Omitted 1395 annotation(s) that were outside data range.\n",
      "  raw.set_annotations(annotations)\n",
      "/var/folders/lw/hwgr0trd2fvc2gxpptkrl8m00000gn/T/ipykernel_45580/1364935433.py:9: RuntimeWarning: Limited 1 annotation(s) that were expanding outside the data range.\n",
      "  raw.set_annotations(annotations)\n"
     ]
    },
    {
     "data": {
      "text/html": [
       "<table class=\"table table-hover table-striped table-sm table-responsive small\">\n",
       "    <tr>\n",
       "        <th>Measurement date</th>\n",
       "        \n",
       "        <td>Unknown</td>\n",
       "        \n",
       "    </tr>\n",
       "    <tr>\n",
       "        <th>Experimenter</th>\n",
       "        \n",
       "        <td>Unknown</td>\n",
       "        \n",
       "    </tr>\n",
       "        <th>Participant</th>\n",
       "        \n",
       "        <td>Unknown</td>\n",
       "        \n",
       "    </tr>\n",
       "    <tr>\n",
       "        <th>Digitized points</th>\n",
       "        \n",
       "        <td>Not available</td>\n",
       "        \n",
       "    </tr>\n",
       "    <tr>\n",
       "        <th>Good channels</th>\n",
       "        <td>94 ECoG</td>\n",
       "    </tr>\n",
       "    <tr>\n",
       "        <th>Bad channels</th>\n",
       "        <td>None</td>\n",
       "    </tr>\n",
       "    <tr>\n",
       "        <th>EOG channels</th>\n",
       "        <td>Not available</td>\n",
       "    </tr>\n",
       "    <tr>\n",
       "        <th>ECG channels</th>\n",
       "        <td>Not available</td>\n",
       "    \n",
       "    <tr>\n",
       "        <th>Sampling frequency</th>\n",
       "        <td>500.00 Hz</td>\n",
       "    </tr>\n",
       "    \n",
       "    \n",
       "    <tr>\n",
       "        <th>Highpass</th>\n",
       "        <td>0.00 Hz</td>\n",
       "    </tr>\n",
       "    \n",
       "    \n",
       "    <tr>\n",
       "        <th>Lowpass</th>\n",
       "        <td>250.00 Hz</td>\n",
       "    </tr>\n",
       "    \n",
       "    \n",
       "    \n",
       "    <tr>\n",
       "        <th>Duration</th>\n",
       "        <td>00:33:20 (HH:MM:SS)</td>\n",
       "    </tr>\n",
       "</table>"
      ],
      "text/plain": [
       "<RawArray | 94 x 1000000 (2000.0 s), ~717.3 MB, data loaded>"
      ]
     },
     "execution_count": 62,
     "metadata": {},
     "output_type": "execute_result"
    }
   ],
   "source": [
    "from mne import Annotations\n",
    "\n",
    "onset = clabels_orig ['start_time'].values\n",
    "duration = clabels_orig ['stop_time'].values - onset\n",
    "description = clabels_orig ['labels'].values\n",
    "\n",
    "annotations = Annotations(onset, duration, description)\n",
    "\n",
    "raw.set_annotations(annotations)\n"
   ]
  },
  {
   "cell_type": "code",
   "execution_count": 67,
   "metadata": {},
   "outputs": [
    {
     "ename": "AttributeError",
     "evalue": "module 'mne' has no attribute 'events_from_annotatios'",
     "output_type": "error",
     "traceback": [
      "\u001b[0;31m---------------------------------------------------------------------------\u001b[0m",
      "\u001b[0;31mAttributeError\u001b[0m                            Traceback (most recent call last)",
      "Cell \u001b[0;32mIn[67], line 1\u001b[0m\n\u001b[0;32m----> 1\u001b[0m mne\u001b[39m.\u001b[39;49mevents_from_annotatios(raw)\n",
      "\u001b[0;31mAttributeError\u001b[0m: module 'mne' has no attribute 'events_from_annotatios'"
     ]
    }
   ],
   "source": [
    "from mne.events import events_from_annotations\n",
    "\n",
    "events, event_id = events_from_annotations(raw)\n",
    "\n",
    "epochs = Epochs(raw, events, event_id)"
   ]
  },
  {
   "cell_type": "code",
   "execution_count": null,
   "metadata": {},
   "outputs": [],
   "source": []
  }
 ],
 "metadata": {
  "kernelspec": {
   "display_name": "NMA",
   "language": "python",
   "name": "python3"
  },
  "language_info": {
   "codemirror_mode": {
    "name": "ipython",
    "version": 3
   },
   "file_extension": ".py",
   "mimetype": "text/x-python",
   "name": "python",
   "nbconvert_exporter": "python",
   "pygments_lexer": "ipython3",
   "version": "3.9.16"
  },
  "orig_nbformat": 4
 },
 "nbformat": 4,
 "nbformat_minor": 2
}
